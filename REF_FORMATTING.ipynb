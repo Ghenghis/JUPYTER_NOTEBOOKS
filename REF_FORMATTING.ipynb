{
 "cells": [
  {
   "cell_type": "code",
   "execution_count": null,
   "metadata": {},
   "outputs": [],
   "source": [
    "##### FROM CHATGPT & BOOK:  PYTHON TRICKS:  THE BOOK (p. 113) #####\n",
    "\n",
    "def divide(x, y):\n",
    "    # if y == 0:\n",
    "    #     raise ZeroDivisionError(\"Cannot divide by zero\")\n",
    "    return x / y\n",
    "\n",
    "try:\n",
    "    x = float(input(\"Enter first number: \"))\n",
    "    y = float(input(\"Enter second number: \"))\n",
    "    print(f\"x =\", x)\n",
    "    print(f\"y =\", y)\n",
    "    result = divide(x, y)\n",
    "    result2 = \"{:,.5f}\".format(result)\n",
    "    print(f\"x / y =\", result2)\n",
    "except ValueError as e:\n",
    "    print(\"INPUT ERROR:\", e)\n",
    "except ZeroDivisionError as e:\n",
    "    print(\"INPUT ERROR:\", e)"
   ]
  },
  {
   "cell_type": "code",
   "execution_count": 3,
   "metadata": {},
   "outputs": [
    {
     "name": "stdout",
     "output_type": "stream",
     "text": [
      "0 0\n",
      "1 0\n",
      "1 1\n",
      "2 0\n",
      "2 1\n",
      "2 2\n",
      "3 0\n",
      "3 1\n",
      "3 2\n",
      "3 3\n",
      "4 0\n",
      "4 1\n",
      "4 2\n",
      "4 3\n",
      "4 4\n"
     ]
    }
   ],
   "source": [
    "##### EXAMPLE OF BREAK STATEMENT IN A LOOP #####\n",
    "\n",
    "for i in range(5):\n",
    "    for j in range(5):\n",
    "        if j > i:\n",
    "            break\n",
    "        print(i, j)"
   ]
  },
  {
   "cell_type": "code",
   "execution_count": null,
   "metadata": {},
   "outputs": [],
   "source": [
    "### FROM CHATGPT:  MYPY (TYPE HINTS) EXAMPLE ###\n",
    "\n",
    "def greet(name: str) -> str:\n",
    "    return 'Hello, ' + name\n",
    "\n",
    "# Incorrect usage\n",
    "result = greet(9)  # mypy Error: Argument 1 to \"greet\" has incompatible type \"int\"; expected \"str\"\n",
    "\n",
    "print(result)"
   ]
  }
 ],
 "metadata": {
  "kernelspec": {
   "display_name": "Python 3",
   "language": "python",
   "name": "python3"
  },
  "language_info": {
   "codemirror_mode": {
    "name": "ipython",
    "version": 3
   },
   "file_extension": ".py",
   "mimetype": "text/x-python",
   "name": "python",
   "nbconvert_exporter": "python",
   "pygments_lexer": "ipython3",
   "version": "3.12.3"
  }
 },
 "nbformat": 4,
 "nbformat_minor": 2
}
