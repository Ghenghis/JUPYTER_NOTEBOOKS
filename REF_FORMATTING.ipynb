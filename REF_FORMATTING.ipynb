{
 "cells": [
  {
   "cell_type": "code",
   "execution_count": null,
   "metadata": {},
   "outputs": [],
   "source": [
    "##### FROM CHATGPT & BOOK:  PYTHON TRICKS:  THE BOOK (p. 113) #####\n",
    "\n",
    "def divide(x, y):\n",
    "    # if y == 0:\n",
    "    #     raise ZeroDivisionError(\"Cannot divide by zero\")\n",
    "    return x / y\n",
    "\n",
    "try:\n",
    "    x = float(input(\"Enter first number: \"))\n",
    "    y = float(input(\"Enter second number: \"))\n",
    "    print(f\"x =\", x)\n",
    "    print(f\"y =\", y)\n",
    "    result = divide(x, y)\n",
    "    result2 = \"{:,.5f}\".format(result)\n",
    "    print(f\"x / y =\", result2)\n",
    "except ValueError as e:\n",
    "    print(\"INPUT ERROR:\", e)\n",
    "except ZeroDivisionError as e:\n",
    "    print(\"INPUT ERROR:\", e)"
   ]
  },
  {
   "cell_type": "code",
   "execution_count": null,
   "metadata": {},
   "outputs": [],
   "source": [
    "##### EXAMPLE OF BREAK STATEMENT IN A LOOP #####\n",
    "\n",
    "for i in range(4):\n",
    "    for j in range(4):\n",
    "        if j > i:\n",
    "            break\n",
    "        print(i, j)"
   ]
  }
 ],
 "metadata": {
  "language_info": {
   "name": "python"
  }
 },
 "nbformat": 4,
 "nbformat_minor": 2
}
