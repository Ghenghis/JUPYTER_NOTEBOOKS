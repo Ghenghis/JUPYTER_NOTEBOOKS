{
 "cells": [
  {
   "cell_type": "code",
   "execution_count": 1,
   "metadata": {},
   "outputs": [
    {
     "name": "stderr",
     "output_type": "stream",
     "text": [
      "C:\\Users\\alan\\AppData\\Local\\Temp\\ipykernel_9948\\3243938682.py:1: DeprecationWarning: \n",
      "Pyarrow will become a required dependency of pandas in the next major release of pandas (pandas 3.0),\n",
      "(to allow more performant data types, such as the Arrow string type, and better interoperability with other libraries)\n",
      "but was not found to be installed on your system.\n",
      "If this would cause problems for you,\n",
      "please provide us feedback at https://github.com/pandas-dev/pandas/issues/54466\n",
      "        \n",
      "  import pandas as pd\n"
     ]
    }
   ],
   "source": [
    "import pandas as pd\n",
    "import openpyxl\n",
    "\n",
    "students = (\n",
    "  {'TITLE': ['MR.', 'Mr.', 'Mr.', 'Miss', 'Miss', 'Mr.', 'Miss', 'Miss', 'Miss', 'Mr.'],\n",
    "   'FIRST_NAME': ['ALAN', 'Daniel', 'Ben', 'Kavita', 'Linda',\n",
    "                  'Omar','Jane', 'Felicia', 'Rachel',\n",
    "                  'Bob'],\n",
    "   'LAST_NAME': ['NISHIHARA', 'Smith', 'Leibstrom', 'Kanabar', 'Thiel',\n",
    "                 'Reichel', 'OConner', 'Rao', 'Crock',\n",
    "                 'McDonald'],\n",
    "   'HOME_STATE': ['OREGON', 'NY', 'NY', 'PA', 'CA', 'OK', 'HI',\n",
    "                  'NY','FL', 'FL'],\n",
    "   'YEAR': [4, 1, 1, 1, 4, 2, 2, 3, 1, 1],\n",
    "   'AGE': [22, 18, 19, 19, 22, 21, 19, 20, 17, 18],\n",
    "   'CALC_101_FINAL': [100, 90, 80, None, 60, 70, None, None, None, 98],\n",
    "   'ENGLISH_101_FINAL_SCORE': [100, 80, None, None, 40, 50, None, None, 60, 65]})\n",
    "\n",
    "df_students = pd.DataFrame(students)\n",
    "df_students.index = [1,2,3,4,5,6,7,8,9,10]\n",
    "df_students = df_students.rename_axis('ROW NO.')\n",
    "df_students.to_excel('DATA_FILES/Z_TEST1.xlsx')\n",
    "\n",
    "# Load the Excel file\n",
    "workbook = openpyxl.load_workbook('DATA_FILES/Z_TEST1.xlsx')\n",
    "\n",
    "# Select the worksheet\n",
    "worksheet = workbook.active\n",
    "\n",
    "# Set the column width\n",
    "worksheet.column_dimensions['A'].width = 3 # Set column A width\n",
    "worksheet.column_dimensions['I'].width = 3 # Set column I width\n",
    "\n",
    "# Save the changes\n",
    "workbook.save('DATA_FILES/Z_TEST1.xlsx')"
   ]
  },
  {
   "cell_type": "code",
   "execution_count": null,
   "metadata": {},
   "outputs": [],
   "source": [
    "# df_students = (df_students.rename(columns={'ENGLISH_101_FINAL_SCORE' : 'ENGLISH_101_FINAL'}))"
   ]
  },
  {
   "cell_type": "code",
   "execution_count": null,
   "metadata": {},
   "outputs": [],
   "source": [
    "# df_students.columns = ['TITLE', 'FIRST_NAME', 'LAST_NAME', 'HOME_STATE', 'YEAR', 'AGE', 'CALC_101_FINAL', 'ENGLISH_101_FINAL']"
   ]
  },
  {
   "cell_type": "code",
   "execution_count": null,
   "metadata": {},
   "outputs": [],
   "source": [
    "# df_students[['TITLE', 'FIRST_NAME', 'LAST_NAME', 'HOME_STATE', 'YEAR', 'AGE', 'CALC_101_FINAL', 'ENGLISH_101_FINAL']]"
   ]
  },
  {
   "cell_type": "code",
   "execution_count": null,
   "metadata": {},
   "outputs": [],
   "source": [
    "# df_students = pd.read_excel('DATA_FILES/Students.xlsx')\n",
    "# print(df_students)"
   ]
  }
 ],
 "metadata": {
  "kernelspec": {
   "display_name": ".venv",
   "language": "python",
   "name": "python3"
  },
  "language_info": {
   "codemirror_mode": {
    "name": "ipython",
    "version": 3
   },
   "file_extension": ".py",
   "mimetype": "text/x-python",
   "name": "python",
   "nbconvert_exporter": "python",
   "pygments_lexer": "ipython3",
   "version": "3.11.8"
  }
 },
 "nbformat": 4,
 "nbformat_minor": 2
}
