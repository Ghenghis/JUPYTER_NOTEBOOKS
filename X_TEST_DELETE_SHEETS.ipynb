{
 "cells": [
  {
   "cell_type": "code",
   "execution_count": 5,
   "metadata": {},
   "outputs": [
    {
     "name": "stdout",
     "output_type": "stream",
     "text": [
      "['Sheet', 'Sheet1']\n",
      "['Sheet', 'Second sheet', 'Sheet1']\n",
      "['Sheet', 'Sheet1']\n"
     ]
    }
   ],
   "source": [
    "import openpyxl\n",
    "\n",
    "def create_worksheets(path):\n",
    "    workbook = openpyxl.Workbook()\n",
    "    workbook.create_sheet()\n",
    "    print(workbook.sheetnames)\n",
    "    workbook.create_sheet(index=1, title=\"Second sheet\")\n",
    "    print(workbook.sheetnames)\n",
    "    del workbook[\"Second sheet\"]\n",
    "    print(workbook.sheetnames)\n",
    "    workbook.save(path)\n",
    "    \n",
    "if __name__ == \"__main__\":\n",
    "    path = \"DATA_FILES/X_TEST_Z8_DELETE_SHEET.xlsx\"\n",
    "    create_worksheets(path)"
   ]
  },
  {
   "cell_type": "markdown",
   "metadata": {},
   "source": []
  }
 ],
 "metadata": {
  "kernelspec": {
   "display_name": ".venv",
   "language": "python",
   "name": "python3"
  },
  "language_info": {
   "codemirror_mode": {
    "name": "ipython",
    "version": 3
   },
   "file_extension": ".py",
   "mimetype": "text/x-python",
   "name": "python",
   "nbconvert_exporter": "python",
   "pygments_lexer": "ipython3",
   "version": "3.11.8"
  }
 },
 "nbformat": 4,
 "nbformat_minor": 2
}
