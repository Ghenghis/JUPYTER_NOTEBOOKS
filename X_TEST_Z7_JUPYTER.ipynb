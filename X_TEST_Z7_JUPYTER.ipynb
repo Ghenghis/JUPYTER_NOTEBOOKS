{
 "cells": [
  {
   "cell_type": "code",
   "execution_count": 5,
   "metadata": {},
   "outputs": [
    {
     "name": "stdout",
     "output_type": "stream",
     "text": [
      "File DATA_FILES/Z_TEST2.xlsx does not exist.\n"
     ]
    },
    {
     "ename": "TypeError",
     "evalue": "<class 'openpyxl.worksheet.dimensions.ColumnDimension'>.index should be <class 'str'> but value is <class 'int'>",
     "output_type": "error",
     "traceback": [
      "\u001b[1;31m---------------------------------------------------------------------------\u001b[0m",
      "\u001b[1;31mTypeError\u001b[0m                                 Traceback (most recent call last)",
      "Cell \u001b[1;32mIn[5], line 70\u001b[0m\n\u001b[0;32m     68\u001b[0m sheet_name \u001b[38;5;241m=\u001b[39m \u001b[38;5;124m\"\u001b[39m\u001b[38;5;124mSheet\u001b[39m\u001b[38;5;124m\"\u001b[39m\n\u001b[0;32m     69\u001b[0m delete_file(path)\n\u001b[1;32m---> 70\u001b[0m \u001b[43mcreate_sheet\u001b[49m\u001b[43m(\u001b[49m\u001b[43mpath\u001b[49m\u001b[43m)\u001b[49m\n\u001b[0;32m     71\u001b[0m delete_sheet(path, sheet_name)\n\u001b[0;32m     72\u001b[0m \u001b[38;5;28mprint\u001b[39m(\u001b[38;5;124m\"\u001b[39m\u001b[38;5;124mAll Done\u001b[39m\u001b[38;5;124m\"\u001b[39m)\n",
      "Cell \u001b[1;32mIn[5], line 32\u001b[0m, in \u001b[0;36mcreate_sheet\u001b[1;34m(path)\u001b[0m\n\u001b[0;32m     30\u001b[0m \u001b[38;5;66;03m# Set the height of a specific row (e.g., row 1)\u001b[39;00m\n\u001b[0;32m     31\u001b[0m     worksheet\u001b[38;5;241m.\u001b[39mrow_dimensions[\u001b[38;5;241m1\u001b[39m]\u001b[38;5;241m.\u001b[39mheight \u001b[38;5;241m=\u001b[39m \u001b[38;5;241m250\u001b[39m\n\u001b[1;32m---> 32\u001b[0m     \u001b[43mworksheet\u001b[49m\u001b[38;5;241;43m.\u001b[39;49m\u001b[43mcolumn_dimensions\u001b[49m\u001b[43m[\u001b[49m\u001b[38;5;241;43m1\u001b[39;49m\u001b[43m]\u001b[49m\u001b[38;5;241m.\u001b[39mwidth \u001b[38;5;241m=\u001b[39m \u001b[38;5;241m600\u001b[39m\n\u001b[0;32m     34\u001b[0m \u001b[38;5;66;03m# Save the workbook\u001b[39;00m\n\u001b[0;32m     35\u001b[0m \u001b[38;5;66;03m# workbook.save(\"your_file.xlsx\")\u001b[39;00m\n\u001b[0;32m     37\u001b[0m     sheet2[\u001b[38;5;124m\"\u001b[39m\u001b[38;5;124mA2\u001b[39m\u001b[38;5;124m\"\u001b[39m] \u001b[38;5;241m=\u001b[39m \u001b[38;5;124m\"\u001b[39m\u001b[38;5;124mS2 A2\u001b[39m\u001b[38;5;124m\"\u001b[39m\n",
      "File \u001b[1;32m~\\AppData\\Local\\Packages\\PythonSoftwareFoundation.Python.3.11_qbz5n2kfra8p0\\LocalCache\\local-packages\\Python311\\site-packages\\openpyxl\\utils\\bound_dictionary.py:25\u001b[0m, in \u001b[0;36mBoundDictionary.__getitem__\u001b[1;34m(self, key)\u001b[0m\n\u001b[0;32m     23\u001b[0m value \u001b[38;5;241m=\u001b[39m \u001b[38;5;28msuper\u001b[39m(BoundDictionary, \u001b[38;5;28mself\u001b[39m)\u001b[38;5;241m.\u001b[39m\u001b[38;5;21m__getitem__\u001b[39m(key)\n\u001b[0;32m     24\u001b[0m \u001b[38;5;28;01mif\u001b[39;00m \u001b[38;5;28mself\u001b[39m\u001b[38;5;241m.\u001b[39mreference \u001b[38;5;129;01mis\u001b[39;00m \u001b[38;5;129;01mnot\u001b[39;00m \u001b[38;5;28;01mNone\u001b[39;00m:\n\u001b[1;32m---> 25\u001b[0m     \u001b[38;5;28msetattr\u001b[39m(value, \u001b[38;5;28mself\u001b[39m\u001b[38;5;241m.\u001b[39mreference, key)\n\u001b[0;32m     26\u001b[0m \u001b[38;5;28;01mreturn\u001b[39;00m value\n",
      "File \u001b[1;32m~\\AppData\\Local\\Packages\\PythonSoftwareFoundation.Python.3.11_qbz5n2kfra8p0\\LocalCache\\local-packages\\Python311\\site-packages\\openpyxl\\descriptors\\base.py:46\u001b[0m, in \u001b[0;36mTyped.__set__\u001b[1;34m(self, instance, value)\u001b[0m\n\u001b[0;32m     44\u001b[0m         \u001b[38;5;28;01mif\u001b[39;00m DEBUG:\n\u001b[0;32m     45\u001b[0m             msg \u001b[38;5;241m=\u001b[39m \u001b[38;5;124mf\u001b[39m\u001b[38;5;124m\"\u001b[39m\u001b[38;5;132;01m{\u001b[39;00minstance\u001b[38;5;241m.\u001b[39m\u001b[38;5;18m__class__\u001b[39m\u001b[38;5;132;01m}\u001b[39;00m\u001b[38;5;124m.\u001b[39m\u001b[38;5;132;01m{\u001b[39;00m\u001b[38;5;28mself\u001b[39m\u001b[38;5;241m.\u001b[39mname\u001b[38;5;132;01m}\u001b[39;00m\u001b[38;5;124m should be \u001b[39m\u001b[38;5;132;01m{\u001b[39;00m\u001b[38;5;28mself\u001b[39m\u001b[38;5;241m.\u001b[39mexpected_type\u001b[38;5;132;01m}\u001b[39;00m\u001b[38;5;124m but \u001b[39m\u001b[38;5;132;01m{\u001b[39;00mvalue\u001b[38;5;132;01m}\u001b[39;00m\u001b[38;5;124m is \u001b[39m\u001b[38;5;132;01m{\u001b[39;00m\u001b[38;5;28mtype\u001b[39m(value)\u001b[38;5;132;01m}\u001b[39;00m\u001b[38;5;124m\"\u001b[39m\n\u001b[1;32m---> 46\u001b[0m         \u001b[38;5;28;01mraise\u001b[39;00m \u001b[38;5;167;01mTypeError\u001b[39;00m(msg)\n\u001b[0;32m     47\u001b[0m \u001b[38;5;28msuper\u001b[39m(Typed, \u001b[38;5;28mself\u001b[39m)\u001b[38;5;241m.\u001b[39m\u001b[38;5;21m__set__\u001b[39m(instance, value)\n",
      "\u001b[1;31mTypeError\u001b[0m: <class 'openpyxl.worksheet.dimensions.ColumnDimension'>.index should be <class 'str'> but value is <class 'int'>"
     ]
    }
   ],
   "source": [
    "import openpyxl\n",
    "from openpyxl import Workbook\n",
    "from openpyxl.styles import Font\n",
    "import os\n",
    "import openpyxl\n",
    "\n",
    "def delete_file(file_path):\n",
    "    if os.path.exists(file_path):\n",
    "        os.remove(file_path)\n",
    "        print(f\"File {file_path} deleted successfully.\")\n",
    "    else:\n",
    "        print(f\"File {file_path} does not exist.\")\n",
    "\n",
    "def create_sheet(path):\n",
    "    workbook = Workbook()\n",
    "    sheet = workbook.active\n",
    "    sheet2 = workbook.create_sheet(index=1, title=\"Sheet2\")\n",
    "        \n",
    "    # Populate Sheet2 \n",
    "    sheet2[\"A1\"] = \"S2 A1\"\n",
    "    cell = sheet2[\"A1\"]\n",
    "    cell.font = Font(size=20)\n",
    "\n",
    "# Load the workbook\n",
    "# workbook = openpyxl.load_workbook(\"your_file.xlsx\")\n",
    "\n",
    "# Select the worksheet\n",
    "    worksheet = workbook[\"Sheet2\"]\n",
    "\n",
    "# Set the height of a specific row (e.g., row 1)\n",
    "    worksheet.row_dimensions[1].height = 250\n",
    "    worksheet.column_dimensions[1].width = 600\n",
    "\n",
    "# Save the workbook\n",
    "# workbook.save(\"your_file.xlsx\")\n",
    "    \n",
    "    sheet2[\"A2\"] = \"S2 A2\"\n",
    "    sheet2[\"A3\"] = \"S2 A3\"\n",
    "\n",
    "    # workbook.save(path)\n",
    "    print(f\"Excel file {path} :  Sheet 2 created successfully\")\n",
    "\n",
    "    # Create Sheet1\n",
    "    sheet1 = workbook.create_sheet(index=1, title=\"Sheet1\")\n",
    "    \n",
    "    # Populate Sheet1\n",
    "    sheet1[\"A1\"] = \"S1 A1\"\n",
    "    sheet1[\"A2\"] = \"S1 A2\"\n",
    "    sheet1[\"A3\"] = \"S1 A3\"\n",
    "\n",
    "    workbook.save(path)\n",
    "    \n",
    "    print(f\"Excel file {path} :  Sheet 1 created successfully\")\n",
    "    print(workbook.sheetnames)\n",
    "    \n",
    "def delete_sheet(path, sheet_name):\n",
    "    workbook = openpyxl.load_workbook(path)\n",
    "    if sheet_name in workbook.sheetnames:\n",
    "        sheet = workbook[sheet_name]\n",
    "        workbook.remove(sheet)\n",
    "        workbook.save(path)\n",
    "        print(f\"Sheet '{sheet_name}' deleted successfully\")\n",
    "    else:\n",
    "        print(f\"Sheet '{sheet_name}' does not exist\")\n",
    "\n",
    "if __name__ == \"__main__\":\n",
    "    path = \"DATA_FILES/Z_TEST2.xlsx\"\n",
    "    sheet_name = \"Sheet\"\n",
    "    delete_file(path)\n",
    "    create_sheet(path)\n",
    "    delete_sheet(path, sheet_name)\n",
    "    print(\"All Done\")"
   ]
  }
 ],
 "metadata": {
  "kernelspec": {
   "display_name": ".venv",
   "language": "python",
   "name": "python3"
  },
  "language_info": {
   "codemirror_mode": {
    "name": "ipython",
    "version": 3
   },
   "file_extension": ".py",
   "mimetype": "text/x-python",
   "name": "python",
   "nbconvert_exporter": "python",
   "pygments_lexer": "ipython3",
   "version": "3.11.8"
  }
 },
 "nbformat": 4,
 "nbformat_minor": 2
}
