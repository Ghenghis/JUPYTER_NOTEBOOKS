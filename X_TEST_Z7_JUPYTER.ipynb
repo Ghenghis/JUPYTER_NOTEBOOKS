{
 "cells": [
  {
   "cell_type": "code",
   "execution_count": 1,
   "metadata": {},
   "outputs": [
    {
     "name": "stdout",
     "output_type": "stream",
     "text": [
      "File DATA_FILES/Z_TEST2.xlsx deleted successfully.\n",
      "Excel file DATA_FILES/Z_TEST2.xlsx :  Sheet 1 created successfully.\n"
     ]
    },
    {
     "ename": "TypeError",
     "evalue": "Workbook.move_sheet() got an unexpected keyword argument 'before'",
     "output_type": "error",
     "traceback": [
      "\u001b[1;31m---------------------------------------------------------------------------\u001b[0m",
      "\u001b[1;31mTypeError\u001b[0m                                 Traceback (most recent call last)",
      "Cell \u001b[1;32mIn[1], line 54\u001b[0m\n\u001b[0;32m     52\u001b[0m path \u001b[38;5;241m=\u001b[39m \u001b[38;5;124m\"\u001b[39m\u001b[38;5;124mDATA_FILES/Z_TEST2.xlsx\u001b[39m\u001b[38;5;124m\"\u001b[39m\n\u001b[0;32m     53\u001b[0m delete_file(path)\n\u001b[1;32m---> 54\u001b[0m \u001b[43mcreate_sheet\u001b[49m\u001b[43m(\u001b[49m\u001b[43mpath\u001b[49m\u001b[43m)\u001b[49m\n\u001b[0;32m     55\u001b[0m \u001b[38;5;28mprint\u001b[39m(\u001b[38;5;124m\"\u001b[39m\u001b[38;5;124mAll Done\u001b[39m\u001b[38;5;124m\"\u001b[39m)\n",
      "Cell \u001b[1;32mIn[1], line 46\u001b[0m, in \u001b[0;36mcreate_sheet\u001b[1;34m(path)\u001b[0m\n\u001b[0;32m     43\u001b[0m sheet2[\u001b[38;5;124m\"\u001b[39m\u001b[38;5;124mA2\u001b[39m\u001b[38;5;124m\"\u001b[39m] \u001b[38;5;241m=\u001b[39m \u001b[38;5;124m'\u001b[39m\u001b[38;5;124mS2 A2\u001b[39m\u001b[38;5;124m'\u001b[39m\n\u001b[0;32m     44\u001b[0m sheet2[\u001b[38;5;124m\"\u001b[39m\u001b[38;5;124mA3\u001b[39m\u001b[38;5;124m\"\u001b[39m] \u001b[38;5;241m=\u001b[39m \u001b[38;5;124m'\u001b[39m\u001b[38;5;124mS2 A3\u001b[39m\u001b[38;5;124m'\u001b[39m\n\u001b[1;32m---> 46\u001b[0m \u001b[43mworkbook\u001b[49m\u001b[38;5;241;43m.\u001b[39;49m\u001b[43mmove_sheet\u001b[49m\u001b[43m(\u001b[49m\u001b[43msheet\u001b[49m\u001b[43m,\u001b[49m\u001b[43m \u001b[49m\u001b[43mbefore\u001b[49m\u001b[38;5;241;43m=\u001b[39;49m\u001b[43msheet2\u001b[49m\u001b[43m)\u001b[49m\n\u001b[0;32m     47\u001b[0m workbook\u001b[38;5;241m.\u001b[39msave(path)\n\u001b[0;32m     49\u001b[0m \u001b[38;5;28mprint\u001b[39m(\u001b[38;5;124mf\u001b[39m\u001b[38;5;124m\"\u001b[39m\u001b[38;5;124mExcel file \u001b[39m\u001b[38;5;132;01m{\u001b[39;00mpath\u001b[38;5;132;01m}\u001b[39;00m\u001b[38;5;124m :  Sheet 2 created successfully.\u001b[39m\u001b[38;5;124m\"\u001b[39m)\n",
      "\u001b[1;31mTypeError\u001b[0m: Workbook.move_sheet() got an unexpected keyword argument 'before'"
     ]
    }
   ],
   "source": [
    "import openpyxl\n",
    "from openpyxl import Workbook\n",
    "from openpyxl.styles import Font\n",
    "import os\n",
    "\n",
    "def delete_file(file_path):\n",
    "    if os.path.exists(file_path):\n",
    "        os.remove(file_path)\n",
    "        print(f\"File {file_path} deleted successfully.\")\n",
    "    else:\n",
    "        print(f\"File {file_path} does not exist.\")\n",
    "\n",
    "def create_sheet(path):\n",
    "    workbook = openpyxl.Workbook()\n",
    "\n",
    "    # workbook(index=0, title=\"Sheet1\")\n",
    "\n",
    "    sheet = workbook.active\n",
    "    sheet.column_dimensions['A'].width = 40\n",
    "    sheet.row_dimensions[1].height = 40\n",
    "    sheet.row_dimensions[2].height = 40\n",
    "    sheet.row_dimensions[3].height = 40\n",
    "    sheet.font = Font(size=50)\n",
    "\n",
    "    sheet[\"A1\"] = 'S1 A1'\n",
    "    sheet[\"A2\"] = 'S1 A2'\n",
    "    sheet[\"A3\"] = 'S1 A3'\n",
    "\n",
    "    workbook.save(path)\n",
    " \n",
    "    print(f\"Excel file {path} :  Sheet 1 created successfully.\")\n",
    "       \n",
    "    workbook.create_sheet(index=0, title=\"Sheet2\")\n",
    "    \n",
    "    sheet2 = workbook.active\n",
    "    sheet2.column_dimensions['A'].width = 100\n",
    "    sheet2.row_dimensions[1].height = 100\n",
    "    sheet2.row_dimensions[2].height = 100\n",
    "    sheet2.row_dimensions[3].height = 100\n",
    "    sheet2.font = Font(size=50)\n",
    "\n",
    "    sheet2[\"A1\"] = 'S2 A1'\n",
    "    sheet2[\"A2\"] = 'S2 A2'\n",
    "    sheet2[\"A3\"] = 'S2 A3'\n",
    "    \n",
    "    sheet_names = workbook.sheetnames\n",
    "    second_sheet = workbook[sheet_names[1]]\n",
    "    workbook.remove(second_sheet)\n",
    "    workbook.insert(0, second_sheet)\n",
    "    workbook.save(path)\n",
    "\n",
    "    print(f\"Excel file {path} :  Sheet 2 created successfully.\")\n",
    "\n",
    "if __name__ == \"__main__\":\n",
    "    path = \"DATA_FILES/Z_TEST2.xlsx\"\n",
    "    delete_file(path)\n",
    "    create_sheet(path)\n",
    "    print(\"All Done\")"
   ]
  }
 ],
 "metadata": {
  "kernelspec": {
   "display_name": ".venv",
   "language": "python",
   "name": "python3"
  },
  "language_info": {
   "codemirror_mode": {
    "name": "ipython",
    "version": 3
   },
   "file_extension": ".py",
   "mimetype": "text/x-python",
   "name": "python",
   "nbconvert_exporter": "python",
   "pygments_lexer": "ipython3",
   "version": "3.11.8"
  }
 },
 "nbformat": 4,
 "nbformat_minor": 2
}
