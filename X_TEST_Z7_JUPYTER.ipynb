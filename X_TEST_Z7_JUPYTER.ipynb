{
 "cells": [
  {
   "cell_type": "code",
   "execution_count": 12,
   "metadata": {},
   "outputs": [
    {
     "name": "stdout",
     "output_type": "stream",
     "text": [
      "File DATA_FILES/Z_TEST2.xlsx does not exist.\n",
      "Excel file DATA_FILES/Z_TEST2.xlsx :  Sheet created successfully\n",
      "Excel file DATA_FILES/Z_TEST2.xlsx :  Sheet 2 created successfully\n",
      "['Sheet1', 'Sheet2', 'Sheet']\n",
      "All Done\n"
     ]
    }
   ],
   "source": [
    "import openpyxl\n",
    "from openpyxl import Workbook\n",
    "from openpyxl.styles import Font\n",
    "import os\n",
    "\n",
    "def delete_file(file_path):\n",
    "    if os.path.exists(file_path):\n",
    "        os.remove(file_path)\n",
    "        print(f\"File {file_path} deleted successfully.\")\n",
    "    else:\n",
    "        print(f\"File {file_path} does not exist.\")\n",
    "\n",
    "def create_sheet(path):\n",
    "    workbook = Workbook()\n",
    "    \n",
    "    # Populate Sheet1 \n",
    "    sheet[\"A1\"] = \"S1 A1\"\n",
    "    sheet[\"A2\"] = \"S1 A2\"\n",
    "    sheet[\"A3\"] = \"S1 A3\"\n",
    "\n",
    "    workbook.save(path)\n",
    "    print(f\"Excel file {path} :  Sheet created successfully\")\n",
    "\n",
    "    # Create Sheet2\n",
    "    sheet2 = workbook.create_sheet(index=1, title=\"Sheet2\")\n",
    "    \n",
    "    # Populate Sheet2\n",
    "    sheet2[\"A1\"] = \"S2 A1\"\n",
    "    sheet2[\"A2\"] = \"S2 A2\"\n",
    "    sheet2[\"A3\"] = \"S2 A3\"\n",
    "\n",
    "    workbook.save(path)\n",
    "    print(f\"Excel file {path} :  Sheet 2 created successfully\")\n",
    "    print(workbook.sheetnames)\n",
    "    \n",
    "    \n",
    "\n",
    "if __name__ == \"__main__\":\n",
    "    path = \"DATA_FILES/Z_TEST2.xlsx\"\n",
    "    delete_file(path)\n",
    "    create_sheet(path)\n",
    "    print(\"All Done\")"
   ]
  }
 ],
 "metadata": {
  "kernelspec": {
   "display_name": ".venv",
   "language": "python",
   "name": "python3"
  },
  "language_info": {
   "codemirror_mode": {
    "name": "ipython",
    "version": 3
   },
   "file_extension": ".py",
   "mimetype": "text/x-python",
   "name": "python",
   "nbconvert_exporter": "python",
   "pygments_lexer": "ipython3",
   "version": "3.11.8"
  }
 },
 "nbformat": 4,
 "nbformat_minor": 2
}
