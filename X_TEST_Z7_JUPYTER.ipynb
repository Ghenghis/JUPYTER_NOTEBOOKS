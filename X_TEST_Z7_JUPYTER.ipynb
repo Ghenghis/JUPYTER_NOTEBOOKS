{
 "cells": [
  {
   "cell_type": "code",
   "execution_count": 7,
   "metadata": {},
   "outputs": [
    {
     "ename": "PermissionError",
     "evalue": "[WinError 32] The process cannot access the file because it is being used by another process: 'DATA_FILES/Z_TEST2.xlsx'",
     "output_type": "error",
     "traceback": [
      "\u001b[1;31m---------------------------------------------------------------------------\u001b[0m",
      "\u001b[1;31mPermissionError\u001b[0m                           Traceback (most recent call last)",
      "Cell \u001b[1;32mIn[7], line 73\u001b[0m\n\u001b[0;32m     71\u001b[0m path \u001b[38;5;241m=\u001b[39m \u001b[38;5;124m\"\u001b[39m\u001b[38;5;124mDATA_FILES/Z_TEST2.xlsx\u001b[39m\u001b[38;5;124m\"\u001b[39m\n\u001b[0;32m     72\u001b[0m sheet_name \u001b[38;5;241m=\u001b[39m \u001b[38;5;124m\"\u001b[39m\u001b[38;5;124mSheet\u001b[39m\u001b[38;5;124m\"\u001b[39m\n\u001b[1;32m---> 73\u001b[0m \u001b[43mdelete_file\u001b[49m\u001b[43m(\u001b[49m\u001b[43mpath\u001b[49m\u001b[43m)\u001b[49m\n\u001b[0;32m     74\u001b[0m create_sheet(path)\n\u001b[0;32m     75\u001b[0m background_colors(path)\n",
      "Cell \u001b[1;32mIn[7], line 9\u001b[0m, in \u001b[0;36mdelete_file\u001b[1;34m(file_path)\u001b[0m\n\u001b[0;32m      7\u001b[0m \u001b[38;5;28;01mdef\u001b[39;00m \u001b[38;5;21mdelete_file\u001b[39m(file_path):\n\u001b[0;32m      8\u001b[0m     \u001b[38;5;28;01mif\u001b[39;00m os\u001b[38;5;241m.\u001b[39mpath\u001b[38;5;241m.\u001b[39mexists(file_path):\n\u001b[1;32m----> 9\u001b[0m         \u001b[43mos\u001b[49m\u001b[38;5;241;43m.\u001b[39;49m\u001b[43mremove\u001b[49m\u001b[43m(\u001b[49m\u001b[43mfile_path\u001b[49m\u001b[43m)\u001b[49m\n\u001b[0;32m     10\u001b[0m         \u001b[38;5;28mprint\u001b[39m(\u001b[38;5;124mf\u001b[39m\u001b[38;5;124m\"\u001b[39m\u001b[38;5;124mFile \u001b[39m\u001b[38;5;132;01m{\u001b[39;00mfile_path\u001b[38;5;132;01m}\u001b[39;00m\u001b[38;5;124m deleted successfully.\u001b[39m\u001b[38;5;124m\"\u001b[39m)\n\u001b[0;32m     11\u001b[0m     \u001b[38;5;28;01melse\u001b[39;00m:\n",
      "\u001b[1;31mPermissionError\u001b[0m: [WinError 32] The process cannot access the file because it is being used by another process: 'DATA_FILES/Z_TEST2.xlsx'"
     ]
    }
   ],
   "source": [
    "import openpyxl\n",
    "from openpyxl import Workbook\n",
    "from openpyxl.styles import Font\n",
    "from openpyxl.styles import PatternFill\n",
    "import os\n",
    "\n",
    "def delete_file(file_path):\n",
    "    if os.path.exists(file_path):\n",
    "        os.remove(file_path)\n",
    "        print(f\"File {file_path} deleted successfully.\")\n",
    "    else:\n",
    "        print(f\"File {file_path} does not exist.\")\n",
    "\n",
    "def create_sheet(path):\n",
    "    # workbook = openpyxl.load_workbook(path)\n",
    "    workbook = Workbook()\n",
    "    sheet = workbook.active\n",
    "    sheet2 = workbook.create_sheet(index=1, title=\"Sheet2\")\n",
    "\n",
    "    # Populate Sheet2 \n",
    "    sheet2[\"A1\"] = \"S2 A1\"\n",
    "    cell = sheet2[\"A1\"]\n",
    "    cell.font = Font(size=15)\n",
    "\n",
    "    sheet2[\"A1\"] = \"S2 A1\"\n",
    "    sheet2[\"A2\"] = \"S2 A2\"\n",
    "    sheet2[\"A3\"] = \"S2 A3\"\n",
    "\n",
    "    print(f\"Excel file {path} :  Sheet 2 created successfully\")\n",
    "\n",
    "    # Create Sheet1\n",
    "    sheet1 = workbook.create_sheet(index=1, title=\"Sheet1\")\n",
    "    \n",
    "    # Populate Sheet1\n",
    "    sheet1[\"A1\"] = \"S1 A1\"\n",
    "    sheet1[\"A2\"] = \"S1 A2\"\n",
    "    sheet1[\"A3\"] = \"S1 A3\"\n",
    "\n",
    "    print(f\"Excel file {path} :  Sheet 1 created successfully\")\n",
    "    workbook.save(path)\n",
    "\n",
    "def background_colors(path):\n",
    "    # workbook = openpyxl.load_workbook(path)\n",
    "    workbook = Workbook()\n",
    "    sheet1 = workbook.active\n",
    "    yellow =\"00FFFF00\"\n",
    "    for rows in sheet1.iter_rows(min_row=1, max_row=10, min_col=1, max_col=12):\n",
    "        for cell in rows:\n",
    "            if cell.row % 2:\n",
    "                cell.fill = PatternFill(start_color=yellow, end_color=yellow, fill_type=\"solid\")\n",
    "    sheet2 = workbook.active\n",
    "    for rows in sheet2.iter_rows(min_row=1, max_row=10, min_col=1, max_col=12):\n",
    "        for cell in rows:\n",
    "            if cell.row % 2:\n",
    "                cell.fill = PatternFill(start_color=yellow, end_color=yellow, fill_type=\"solid\")\n",
    "    workbook.save(path)\n",
    "\n",
    "def delete_sheet(path, sheet_name):\n",
    "    # workbook = openpyxl.load_workbook(path)\n",
    "    workbook = Workbook()\n",
    "    if sheet_name in workbook.sheetnames:\n",
    "        sheet = workbook[sheet_name]\n",
    "        workbook.remove(sheet)\n",
    "        # workbook.save(path)\n",
    "        print(f\"Sheet '{sheet_name}' deleted successfully\")\n",
    "    else:\n",
    "        print(f\"Sheet '{sheet_name}' does not exist\")\n",
    "    workbook.save(path)\n",
    "\n",
    "if __name__ == \"__main__\":\n",
    "    path = \"DATA_FILES/Z_TEST2.xlsx\"\n",
    "    sheet_name = \"Sheet\"\n",
    "    delete_file(path)\n",
    "    create_sheet(path)\n",
    "    background_colors(path)\n",
    "    delete_sheet(path, sheet_name)\n",
    "    print(workbook.sheetnames)"
   ]
  },
  {
   "cell_type": "markdown",
   "metadata": {},
   "source": []
  }
 ],
 "metadata": {
  "kernelspec": {
   "display_name": ".venv",
   "language": "python",
   "name": "python3"
  },
  "language_info": {
   "codemirror_mode": {
    "name": "ipython",
    "version": 3
   },
   "file_extension": ".py",
   "mimetype": "text/x-python",
   "name": "python",
   "nbconvert_exporter": "python",
   "pygments_lexer": "ipython3",
   "version": "3.11.8"
  }
 },
 "nbformat": 4,
 "nbformat_minor": 2
}
