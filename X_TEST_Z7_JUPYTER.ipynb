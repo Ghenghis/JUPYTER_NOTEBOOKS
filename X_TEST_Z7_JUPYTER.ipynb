{
 "cells": [
  {
   "cell_type": "code",
   "execution_count": 53,
   "metadata": {},
   "outputs": [
    {
     "name": "stdout",
     "output_type": "stream",
     "text": [
      "File DATA_FILES/Z_TEST2.xlsx does not exist.\n"
     ]
    },
    {
     "ename": "NameError",
     "evalue": "name 'cell' is not defined",
     "output_type": "error",
     "traceback": [
      "\u001b[1;31m---------------------------------------------------------------------------\u001b[0m",
      "\u001b[1;31mNameError\u001b[0m                                 Traceback (most recent call last)",
      "Cell \u001b[1;32mIn[53], line 49\u001b[0m\n\u001b[0;32m     47\u001b[0m path \u001b[38;5;241m=\u001b[39m \u001b[38;5;124m\"\u001b[39m\u001b[38;5;124mDATA_FILES/Z_TEST2.xlsx\u001b[39m\u001b[38;5;124m\"\u001b[39m\n\u001b[0;32m     48\u001b[0m delete_file(path)\n\u001b[1;32m---> 49\u001b[0m \u001b[43mcreate_sheet\u001b[49m\u001b[43m(\u001b[49m\u001b[43mpath\u001b[49m\u001b[43m)\u001b[49m\n\u001b[0;32m     50\u001b[0m create_sheet2(path)\n\u001b[0;32m     51\u001b[0m \u001b[38;5;28mprint\u001b[39m(\u001b[38;5;124m\"\u001b[39m\u001b[38;5;124mAll Done\u001b[39m\u001b[38;5;124m\"\u001b[39m)\n",
      "Cell \u001b[1;32mIn[53], line 19\u001b[0m, in \u001b[0;36mcreate_sheet\u001b[1;34m(path)\u001b[0m\n\u001b[0;32m     16\u001b[0m workbook\u001b[38;5;241m.\u001b[39msave(path)\n\u001b[0;32m     18\u001b[0m sheet[\u001b[38;5;124m\"\u001b[39m\u001b[38;5;124mA1\u001b[39m\u001b[38;5;124m\"\u001b[39m] \u001b[38;5;241m=\u001b[39m \u001b[38;5;124m\"\u001b[39m\u001b[38;5;124mS1 A1\u001b[39m\u001b[38;5;124m\"\u001b[39m\n\u001b[1;32m---> 19\u001b[0m \u001b[43mcell\u001b[49m\u001b[38;5;241m.\u001b[39mfont \u001b[38;5;241m=\u001b[39m Font(size\u001b[38;5;241m=\u001b[39m\u001b[38;5;241m10\u001b[39m)\n\u001b[0;32m     21\u001b[0m sheet[\u001b[38;5;124m\"\u001b[39m\u001b[38;5;124mA2\u001b[39m\u001b[38;5;124m\"\u001b[39m] \u001b[38;5;241m=\u001b[39m \u001b[38;5;124m\"\u001b[39m\u001b[38;5;124mS1 A2\u001b[39m\u001b[38;5;124m\"\u001b[39m\n\u001b[0;32m     22\u001b[0m cell\u001b[38;5;241m.\u001b[39mfont \u001b[38;5;241m=\u001b[39m Font(size\u001b[38;5;241m=\u001b[39m\u001b[38;5;241m20\u001b[39m)\n",
      "\u001b[1;31mNameError\u001b[0m: name 'cell' is not defined"
     ]
    }
   ],
   "source": [
    "import openpyxl\n",
    "from openpyxl import Workbook\n",
    "from openpyxl.styles import Font\n",
    "import os\n",
    "\n",
    "def delete_file(file_path):\n",
    "    if os.path.exists(file_path):\n",
    "        os.remove(file_path)\n",
    "        print(f\"File {file_path} deleted successfully.\")\n",
    "    else:\n",
    "        print(f\"File {file_path} does not exist.\")\n",
    "\n",
    "def create_sheet(path):\n",
    "    workbook = openpyxl.Workbook()\n",
    "    sheet = workbook.active\n",
    "    workbook.save(path)\n",
    "\n",
    "    sheet[\"A1\"] = \"S1 A1\"\n",
    "    cell.font = Font(size=10)\n",
    "    \n",
    "    sheet[\"A2\"] = \"S1 A2\"\n",
    "    cell.font = Font(size=20)\n",
    "    \n",
    "    sheet[\"A3\"] = \"S1 A3\"\n",
    "    cell.font = Font(size=30)\n",
    "        \n",
    "    print(f\"Excel file {path} :  Sheet created successfully.\")\n",
    "\n",
    "def create_sheet2(path):\n",
    "    workbook = openpyxl.Workbook()\n",
    "    workbook.create_sheet(index=1, title=\"Sheet2\")\n",
    "    workbook.save(path)\n",
    "\n",
    "    sheet2[\"A1\"] = \"S2 A1\"\n",
    "    cell.font = Font(size=10)\n",
    "    \n",
    "    sheet2[\"A2\"] = \"S2 A2\"\n",
    "    cell.font = Font(size=20)\n",
    "    \n",
    "    sheet2[\"A3\"] = \"S2 A3\"\n",
    "    cell.font = Font(size=30)\n",
    "   \n",
    "    print(f\"Excel file {path} :  Sheet 2 created successfully.\")\n",
    "    print(workbook.sheetnames)\n",
    "\n",
    "if __name__ == \"__main__\":\n",
    "    path = \"DATA_FILES/Z_TEST2.xlsx\"\n",
    "    delete_file(path)\n",
    "    create_sheet(path)\n",
    "    create_sheet2(path)\n",
    "    print(\"All Done\")"
   ]
  }
 ],
 "metadata": {
  "kernelspec": {
   "display_name": ".venv",
   "language": "python",
   "name": "python3"
  },
  "language_info": {
   "codemirror_mode": {
    "name": "ipython",
    "version": 3
   },
   "file_extension": ".py",
   "mimetype": "text/x-python",
   "name": "python",
   "nbconvert_exporter": "python",
   "pygments_lexer": "ipython3",
   "version": "3.11.8"
  }
 },
 "nbformat": 4,
 "nbformat_minor": 2
}
