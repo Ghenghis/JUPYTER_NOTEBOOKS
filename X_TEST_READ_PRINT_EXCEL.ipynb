{
 "cells": [
  {
   "cell_type": "code",
   "execution_count": 3,
   "metadata": {},
   "outputs": [
    {
     "name": "stdout",
     "output_type": "stream",
     "text": [
      "         ACCOUNT       STOCK     STOCK TYPE        PURCHASE DATE  NO. SHARES  \\\n",
      "0     INDIVIDUAL        NVDL         COMMON  2023-12-04 00:00:00    1636.254   \n",
      "1     INDIVIDUAL        PLTR         COMMON  2023-08-01 00:00:00    2200.000   \n",
      "2       SUBTOTAL         NaN            NaN                  NaN         NaN   \n",
      "3   ROLLOVER IRA        NVDL         COMMON                  NaN    8348.255   \n",
      "4   ROLLOVER IRA        PLTR         COMMON                  NaN    7570.000   \n",
      "5   ROLLOVER IRA        SOUN         COMMON  2024-03-12 00:00:00    2660.000   \n",
      "6       SUBTOTAL         NaN            NaN                  NaN         NaN   \n",
      "7          TOTAL         NaN            NaN                  NaN         NaN   \n",
      "8            NaN         NaN            NaN                  NaN         NaN   \n",
      "9            NaN  NO. SHARES  CURRENT VALUE                    %         NaN   \n",
      "10    TOTAL PLTR        9770       245715.5             0.354236         NaN   \n",
      "11    TOTAL NVDL    9984.509    422344.7307             0.608873         NaN   \n",
      "12    TOTAL SOUN        2660        25589.2             0.036891         NaN   \n",
      "13         TOTAL         NaN    693649.4307                    1         NaN   \n",
      "\n",
      "    COST PER SHARE  AVERAGE\\nCOST  TOTAL\\nCOST CURRENT DATE  CURRENT PRICE  \\\n",
      "0              NaN            NaN          0.0   2024-03-13          42.30   \n",
      "1              NaN          17.50      38500.0   2024-03-13          25.15   \n",
      "2              NaN            NaN          NaN          NaT            NaN   \n",
      "3              NaN            NaN          0.0   2024-03-13          42.30   \n",
      "4              NaN          18.34     138833.8   2024-03-13          25.15   \n",
      "5              NaN           6.91      18380.6   2024-03-13           9.62   \n",
      "6              NaN            NaN          NaN          NaT            NaN   \n",
      "7              NaN            NaN          NaN          NaT            NaN   \n",
      "8              NaN            NaN          NaN          NaT            NaN   \n",
      "9              NaN            NaN          NaN          NaT            NaN   \n",
      "10             NaN            NaN          NaN          NaT            NaN   \n",
      "11             NaN            NaN          NaN          NaT            NaN   \n",
      "12             NaN            NaN          NaN          NaT            NaN   \n",
      "13             NaN            NaN          NaN          NaT            NaN   \n",
      "\n",
      "    CURRENT VALUE  GAIN (LOSS)  % OF\\nSUBTOTAL  % OF TOTAL  \n",
      "0      69213.5442   69213.5442        0.555738    0.099782  \n",
      "1      55330.0000   16830.0000        0.444262    0.079767  \n",
      "2     124543.5442   86043.5442        1.000000    0.179548  \n",
      "3     353131.1865  353131.1865        0.620502    0.509092  \n",
      "4     190385.5000   51551.7000        0.334534    0.274469  \n",
      "5      25589.2000    7208.6000        0.044964    0.036891  \n",
      "6     569105.8865  411891.4865        1.000000    0.820452  \n",
      "7     693649.4307  497935.0307             NaN    1.000000  \n",
      "8             NaN          NaN             NaN         NaN  \n",
      "9             NaN          NaN             NaN         NaN  \n",
      "10            NaN          NaN             NaN         NaN  \n",
      "11            NaN          NaN             NaN         NaN  \n",
      "12            NaN          NaN             NaN         NaN  \n",
      "13            NaN          NaN             NaN         NaN  \n"
     ]
    }
   ],
   "source": [
    "import pandas as pd\n",
    "\n",
    "df = pd.read_excel('DATA_FILES/X_TEST_READ_EXCEL_STOCKS.xlsx')\n",
    "\n",
    "print(df)"
   ]
  }
 ],
 "metadata": {
  "kernelspec": {
   "display_name": "Python 3",
   "language": "python",
   "name": "python3"
  },
  "language_info": {
   "codemirror_mode": {
    "name": "ipython",
    "version": 3
   },
   "file_extension": ".py",
   "mimetype": "text/x-python",
   "name": "python",
   "nbconvert_exporter": "python",
   "pygments_lexer": "ipython3",
   "version": "3.11.8"
  }
 },
 "nbformat": 4,
 "nbformat_minor": 2
}
