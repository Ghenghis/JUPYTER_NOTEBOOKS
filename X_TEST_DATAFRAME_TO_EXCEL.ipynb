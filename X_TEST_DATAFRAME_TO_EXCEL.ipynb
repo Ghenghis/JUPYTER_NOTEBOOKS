{
 "cells": [
  {
   "cell_type": "code",
   "execution_count": 2,
   "metadata": {},
   "outputs": [
    {
     "name": "stdout",
     "output_type": "stream",
     "text": [
      "     Trial 1   Trial 2   Trial 3   Trial 4   Trial 5\n",
      "0  -0.566361  0.154929  0.676186 -1.389077  0.712246\n",
      "1  -0.414071 -0.495653 -2.125000  1.297389  0.740346\n",
      "2   0.731750  0.296158 -0.920111 -0.342353 -1.125854\n",
      "3  -0.087735 -0.712363  0.695849 -0.848592 -1.657527\n",
      "4   1.708205  0.759172 -1.190076  0.670719  0.012768\n",
      "..       ...       ...       ...       ...       ...\n",
      "95  1.023170  1.235804  0.308518 -0.183751  1.679256\n",
      "96 -0.977844  0.095977 -0.370722  0.318625  1.002661\n",
      "97  0.375369 -0.143203  0.544312 -0.062768  0.652319\n",
      "98 -0.375448  0.495924 -2.136309  0.867071 -0.370070\n",
      "99  0.358030 -0.456032 -1.064487  0.763848  0.093137\n",
      "\n",
      "[100 rows x 5 columns]\n"
     ]
    }
   ],
   "source": [
    "# Create a DataFrame based on pseudorandom numbers and with enough rows that only the head and tail are shown\n",
    "\n",
    "import pandas as pd\n",
    "import numpy as np\n",
    "\n",
    "df = pd.DataFrame(data=np.random.randn(100, 5),\n",
    "                  columns=[f\"Trial {i}\" for i in range(1, 6)])\n",
    "\n",
    "print(df)\n",
    "\n",
    "if __name__ == \"__main__\":\n",
    "    df.to_excel('DATA_FILES\\\\X_TEST_EXCEL_CREATE2.xlsx', float_format='%.3f')"
   ]
  }
 ],
 "metadata": {
  "kernelspec": {
   "display_name": "Python 3",
   "language": "python",
   "name": "python3"
  },
  "language_info": {
   "codemirror_mode": {
    "name": "ipython",
    "version": 3
   },
   "file_extension": ".py",
   "mimetype": "text/x-python",
   "name": "python",
   "nbconvert_exporter": "python",
   "pygments_lexer": "ipython3",
   "version": "3.12.3"
  }
 },
 "nbformat": 4,
 "nbformat_minor": 2
}
