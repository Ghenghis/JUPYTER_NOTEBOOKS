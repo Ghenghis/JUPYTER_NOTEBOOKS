{
 "cells": [
  {
   "cell_type": "code",
   "execution_count": 1,
   "metadata": {},
   "outputs": [
    {
     "name": "stdout",
     "output_type": "stream",
     "text": [
      "     Trial 1   Trial 2   Trial 3   Trial 4   Trial 5\n",
      "0  -0.752599  0.808277  1.585831 -0.835615  0.234015\n",
      "1   0.490927  0.300675  0.214469  1.072998 -0.391870\n",
      "2  -0.519031 -0.287234 -0.928107  2.328120  1.002655\n",
      "3   0.068529  0.628188  0.122039  1.220197  0.935320\n",
      "4  -0.837418 -0.717956 -0.634980 -0.207585 -0.672531\n",
      "..       ...       ...       ...       ...       ...\n",
      "95  1.423846 -0.414763 -0.062600 -1.506876 -0.646538\n",
      "96 -0.585276 -0.440277  0.027105 -0.725165 -0.793159\n",
      "97 -1.633805 -1.509292 -1.429706  1.386232  0.260577\n",
      "98  1.026287  1.513611 -0.732864 -2.531590 -0.630847\n",
      "99  0.221234 -0.891823 -0.460280 -0.765944 -0.515700\n",
      "\n",
      "[100 rows x 5 columns]\n"
     ]
    }
   ],
   "source": [
    "# Create a DataFrame based on pseudorandom numbers and with enough rows that only the head and tail are shown\n",
    "\n",
    "import pandas as pd\n",
    "import numpy as np\n",
    "\n",
    "df = pd.DataFrame(data=np.random.randn(100, 5),\n",
    "                  columns=[f\"Trial {i}\" for i in range(1, 6)])\n",
    "\n",
    "print(df)\n",
    "\n",
    "if __name__ == \"__main__\":\n",
    "    df.to_excel('DATA_FILES\\\\X_TEST_EXCEL_CREATE2.xlsx', float_format='%.3f')"
   ]
  }
 ],
 "metadata": {
  "kernelspec": {
   "display_name": "Python 3",
   "language": "python",
   "name": "python3"
  },
  "language_info": {
   "codemirror_mode": {
    "name": "ipython",
    "version": 3
   },
   "file_extension": ".py",
   "mimetype": "text/x-python",
   "name": "python",
   "nbconvert_exporter": "python",
   "pygments_lexer": "ipython3",
   "version": "3.12.3"
  }
 },
 "nbformat": 4,
 "nbformat_minor": 2
}
