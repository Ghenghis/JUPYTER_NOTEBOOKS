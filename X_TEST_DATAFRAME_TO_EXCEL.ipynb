{
 "cells": [
  {
   "cell_type": "code",
   "execution_count": 49,
   "metadata": {},
   "outputs": [
    {
     "name": "stdout",
     "output_type": "stream",
     "text": [
      "     Trial 1   Trial 2   Trial 3   Trial 4   Trial 5\n",
      "0  -0.116216 -1.996103 -0.797488 -1.131022  0.175391\n",
      "1   0.839024  1.057377 -0.054634 -1.238327  1.175441\n",
      "2   0.840414  2.148334  0.530041 -0.099311  0.361580\n",
      "3   0.155511  0.937164  1.664443 -0.396215 -0.173779\n",
      "4   1.862906 -1.340496  0.835188  0.698170  1.664332\n",
      "..       ...       ...       ...       ...       ...\n",
      "95  1.233597  0.304382  0.112381 -0.212707  1.055373\n",
      "96  2.235931  0.236372 -1.202669  0.760903  0.691745\n",
      "97 -0.225856  0.447207 -1.125120 -0.523868 -0.315221\n",
      "98 -0.835711 -1.865924  0.119844 -0.730894 -0.147958\n",
      "99  0.487547  0.638540 -1.035306 -0.318825  0.762340\n",
      "\n",
      "[100 rows x 5 columns]\n"
     ]
    }
   ],
   "source": [
    "# Create a DataFrame based on pseudorandom numbers and with enough rows that only the head and tail are shown\n",
    "\n",
    "import pandas as pd\n",
    "# import xlwings as xw\n",
    "\n",
    "df = pd.DataFrame(data=np.random.randn(100, 5),\n",
    "                  columns=[f\"Trial {i}\" for i in range(1, 6)])\n",
    "\n",
    "print(df)\n",
    "\n",
    "if __name__ == \"__main__\":\n",
    "    df.to_excel('DATA_FILES\\\\X_TEST_EXCEL_CREATE2.xlsx', float_format='%.3f')"
   ]
  }
 ],
 "metadata": {
  "kernelspec": {
   "display_name": "Python 3",
   "language": "python",
   "name": "python3"
  },
  "language_info": {
   "codemirror_mode": {
    "name": "ipython",
    "version": 3
   },
   "file_extension": ".py",
   "mimetype": "text/x-python",
   "name": "python",
   "nbconvert_exporter": "python",
   "pygments_lexer": "ipython3",
   "version": "3.12.3"
  }
 },
 "nbformat": 4,
 "nbformat_minor": 2
}
