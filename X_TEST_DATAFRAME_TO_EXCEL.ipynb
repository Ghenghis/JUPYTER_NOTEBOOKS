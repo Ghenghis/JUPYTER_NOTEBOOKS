{
 "cells": [
  {
   "cell_type": "code",
   "execution_count": 1,
   "metadata": {},
   "outputs": [
    {
     "name": "stdout",
     "output_type": "stream",
     "text": [
      "     Trial 1   Trial 2   Trial 3   Trial 4   Trial 5\n",
      "0  -2.490390 -0.502368  0.707007 -0.033125  0.576584\n",
      "1   1.328345  0.994795  0.102814  0.423156  2.167031\n",
      "2  -1.029445 -0.605812  0.609553 -0.866172  0.183238\n",
      "3  -0.592169 -0.739759  0.487705  1.680606  0.392128\n",
      "4   0.631799  0.562590 -0.814013 -0.438259 -0.433446\n",
      "..       ...       ...       ...       ...       ...\n",
      "95 -0.950477 -0.598088  2.346384  0.408595 -1.279194\n",
      "96  0.727721 -0.594465  0.095504  1.104419 -0.742582\n",
      "97 -0.836277  0.248872  1.208717  1.268009 -0.544368\n",
      "98  1.210825 -0.684531 -0.907561 -0.311481  0.555094\n",
      "99 -0.344185 -0.587499 -0.380421  0.951045  1.598641\n",
      "\n",
      "[100 rows x 5 columns]\n"
     ]
    }
   ],
   "source": [
    "# Create a DataFrame based on pseudorandom numbers and with enough rows that only the head and tail are shown\n",
    "\n",
    "import pandas as pd\n",
    "import numpy as np\n",
    "\n",
    "df = pd.DataFrame(data=np.random.randn(100, 5),\n",
    "                  columns=[f\"Trial {i}\" for i in range(1, 6)])\n",
    "\n",
    "print(df)\n",
    "\n",
    "if __name__ == \"__main__\":\n",
    "    df.to_excel('DATA_FILES\\\\X_TEST_EXCEL_CREATE2.xlsx', float_format='%.3f')"
   ]
  }
 ],
 "metadata": {
  "kernelspec": {
   "display_name": "Python 3",
   "language": "python",
   "name": "python3"
  },
  "language_info": {
   "codemirror_mode": {
    "name": "ipython",
    "version": 3
   },
   "file_extension": ".py",
   "mimetype": "text/x-python",
   "name": "python",
   "nbconvert_exporter": "python",
   "pygments_lexer": "ipython3",
   "version": "3.12.3"
  }
 },
 "nbformat": 4,
 "nbformat_minor": 2
}
