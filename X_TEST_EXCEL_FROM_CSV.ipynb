{
 "cells": [
  {
   "cell_type": "code",
   "execution_count": 2,
   "metadata": {},
   "outputs": [],
   "source": [
    "import pandas as pd\n",
    "\n",
    "def csv_to_excel(csv_file, excel_file, sheet_name):\n",
    "    df = pd.read_csv(csv_file)\n",
    "    df.to_excel(excel_file, sheet_name=sheet_name)\n",
    "    \n",
    "if __name__ == \"__main__\":\n",
    "    csv_to_excel(\"DATA_FILES\\X_TEST_READ_EXCEL_STOCKS.csv\", \"DATA_FILES\\X_TEST_READ_EXCEL_STOCKS_TO_EXCEL.xlsx\", \"Books\")"
   ]
  }
 ],
 "metadata": {
  "kernelspec": {
   "display_name": "Python 3",
   "language": "python",
   "name": "python3"
  },
  "language_info": {
   "codemirror_mode": {
    "name": "ipython",
    "version": 3
   },
   "file_extension": ".py",
   "mimetype": "text/x-python",
   "name": "python",
   "nbconvert_exporter": "python",
   "pygments_lexer": "ipython3",
   "version": "3.11.8"
  }
 },
 "nbformat": 4,
 "nbformat_minor": 2
}
