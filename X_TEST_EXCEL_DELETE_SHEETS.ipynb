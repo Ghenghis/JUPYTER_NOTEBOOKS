{
 "cells": [
  {
   "cell_type": "code",
   "execution_count": null,
   "metadata": {},
   "outputs": [],
   "source": [
    "import openpyxl\n",
    "\n",
    "path = \"DATA_FILES/X_TEST_EXCEL_DELETE_SHEETS.xlsx\"\n",
    "\n",
    "def create_and_delete_worksheets(path):\n",
    "    workbook = openpyxl.Workbook(path)\n",
    "    workbook.create_sheet()\n",
    "    old_title = \"Sheet\"\n",
    "    worksheet = workbook[old_title]\n",
    "    new_title = \"Sheet1\"\n",
    "    worksheet.title = new_title\n",
    "    print(\"ORIGINAL WORKSHEET:\\t\\t\\t\\t\", workbook.sheetnames)\n",
    "    workbook.create_sheet(index=1, title=\"Sheet2\")\n",
    "    print(\"ADDED WORKSHEET IN POSITION 2:\\t\\t\\t\", workbook.sheetnames)\n",
    "    workbook.create_sheet(index=2, title=\"Sheet3\")\n",
    "    print(\"ADDED WORKSHEET IN POSITION 3:\\t\\t\\t\", workbook.sheetnames)\n",
    "    workbook.create_sheet(index=3, title=\"Sheet4\")\n",
    "    print(\"ADDED WORKSHEET IN POSITION 4:\\t\\t\\t\", workbook.sheetnames)\n",
    "    workbook.create_sheet(index=4, title=\"Sheet5\")\n",
    "    print(\"ADDED WORKSHEET IN POSITION 5:\\t\\t\\t\", workbook.sheetnames)\n",
    "    del workbook[\"Sheet4\"]\n",
    "    print(\"RESULT OF DELETING WORKSHEET IN POSITION 4:'\\t\", workbook.sheetnames)\n",
    "    workbook.save(path)\n",
    "\n",
    "if __name__ == \"__main__\":\n",
    "    create_and_delete_worksheets(path)"
   ]
  }
 ],
 "metadata": {
  "kernelspec": {
   "display_name": ".venv",
   "language": "python",
   "name": "python3"
  },
  "language_info": {
   "codemirror_mode": {
    "name": "ipython",
    "version": 3
   },
   "file_extension": ".py",
   "mimetype": "text/x-python",
   "name": "python",
   "nbconvert_exporter": "python",
   "pygments_lexer": "ipython3",
   "version": "3.12.3"
  }
 },
 "nbformat": 4,
 "nbformat_minor": 2
}
