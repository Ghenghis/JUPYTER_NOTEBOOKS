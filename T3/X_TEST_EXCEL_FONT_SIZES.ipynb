{
 "cells": [
  {
   "cell_type": "code",
   "execution_count": 1,
   "metadata": {},
   "outputs": [
    {
     "name": "stdout",
     "output_type": "stream",
     "text": [
      "  CELL A1:  BOLD & ITALIC\n",
      "0          CELL A2:  BOLD\n",
      "1        CELL A3:  ITALIC\n"
     ]
    }
   ],
   "source": [
    "import pandas as pd\n",
    "import openpyxl\n",
    "from openpyxl.styles import Font\n",
    "from openpyxl.utils import get_column_letter\n",
    "from openpyxl import Workbook\n",
    "from openpyxl.styles import Alignment\n",
    "\n",
    "brown = \"00A52A2A\"\n",
    "purple = \"00800080\"\n",
    "green = \"0000FF00\"\n",
    "darkgreen = \"00006400\"\n",
    "orange = \"00FFA500\"\n",
    "red = \"00FF0000\"\n",
    "darkred = \"008B0000\"\n",
    "\n",
    "path = \"DATA_FILES/Z_NEWFILE.xlsx\"\n",
    "\n",
    "def font_demo(path_load):\n",
    "    # Load the Excel file\n",
    "    workbook = openpyxl.load_workbook(path)\n",
    "\n",
    "    # Select the worksheet\n",
    "    worksheet = workbook.active\n",
    "\n",
    "    cell = worksheet[\"A1\"]\n",
    "    cell.font = Font(name=\"Helvetica\", size=40, color=purple, bold=True, italic=True)\n",
    "    cell.alignment = Alignment(horizontal=\"left\", vertical=\"top\")\n",
    "    worksheet[\"A1\"] = \"CELL A1:  BOLD & ITALIC\"\n",
    "\n",
    "    cell = worksheet[\"A2\"]\n",
    "    cell.font = Font(name=\"Calibri\", size=20, color=orange, bold=True, italic=False)\n",
    "    cell.alignment = Alignment(horizontal=\"center\", vertical=\"center\")\n",
    "    worksheet[\"A2\"] = \"CELL A2:  BOLD\"\n",
    "\n",
    "    cell = worksheet[\"A3\"]\n",
    "    cell.font = Font(name=\"Ventura\", size=40, color=darkred, bold=False, italic=True)\n",
    "    cell.alignment = Alignment(horizontal=\"right\", vertical=\"bottom\")\n",
    "    worksheet[\"A3\"] = \"CELL A3:  ITALIC\"\n",
    "\n",
    "    column_letter = get_column_letter(1)  # COLUMN A\n",
    "    worksheet.column_dimensions[column_letter].width = 120.00\n",
    "\n",
    "    column_letter = get_column_letter(2)  # COLUMN B\n",
    "    worksheet.column_dimensions[column_letter].width = 3.00\n",
    "\n",
    "    column_letter = get_column_letter(3)  # COLUMN C\n",
    "    worksheet.column_dimensions[column_letter].width = 3.00\n",
    "\n",
    "    row_number = 1  # Replace with the desired row number\n",
    "    row_height = 100  # Replace with the desired row height in points\n",
    "    worksheet.row_dimensions[row_number].height = row_height\n",
    "\n",
    "    row_number = 2  # Replace with the desired row number\n",
    "    row_height = 100  # Replace with the desired row height in points\n",
    "    worksheet.row_dimensions[row_number].height = row_height\n",
    "\n",
    "    row_number = 3  # Replace with the desired row number\n",
    "    row_height = 100  # Replace with the desired row height in points\n",
    "    worksheet.row_dimensions[row_number].height = row_height\n",
    "\n",
    "    workbook.save(path)\n",
    "\n",
    "if __name__ == \"__main__\":\n",
    "    font_demo(path)\n",
    "    df = pd.read_excel(path)\n",
    "    print(df)"
   ]
  }
 ],
 "metadata": {
  "kernelspec": {
   "display_name": ".venv",
   "language": "python",
   "name": "python3"
  },
  "language_info": {
   "codemirror_mode": {
    "name": "ipython",
    "version": 3
   },
   "file_extension": ".py",
   "mimetype": "text/x-python",
   "name": "python",
   "nbconvert_exporter": "python",
   "pygments_lexer": "ipython3",
   "version": "3.12.3"
  }
 },
 "nbformat": 4,
 "nbformat_minor": 2
}
