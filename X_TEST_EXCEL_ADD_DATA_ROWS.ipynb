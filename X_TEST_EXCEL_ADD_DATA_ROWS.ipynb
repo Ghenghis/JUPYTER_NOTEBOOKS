{
 "cells": [
  {
   "cell_type": "code",
   "execution_count": 2,
   "metadata": {},
   "outputs": [],
   "source": [
    "from openpyxl import Workbook\n",
    "\n",
    "path = \"DATA_FILES/X_TEST_EXCEL_ADD_DATA_ROWS.xlsx\"\n",
    "\n",
    "def create_workbook(path):\n",
    "    workbook = Workbook()\n",
    "    sheet = workbook.active\n",
    "    data = [[1001, 2001, 3001],\n",
    "            [\"abc\", \"bcd\", \"cde\"],\n",
    "            [44000, 55000, 66777]]\n",
    "    for row in data:\n",
    "        sheet.append(row)\n",
    "    workbook.save(path)\n",
    "\n",
    "if __name__ == \"__main__\":\n",
    "    create_workbook(path)"
   ]
  }
 ],
 "metadata": {
  "kernelspec": {
   "display_name": ".venv",
   "language": "python",
   "name": "python3"
  },
  "language_info": {
   "codemirror_mode": {
    "name": "ipython",
    "version": 3
   },
   "file_extension": ".py",
   "mimetype": "text/x-python",
   "name": "python",
   "nbconvert_exporter": "python",
   "pygments_lexer": "ipython3",
   "version": "3.12.3"
  }
 },
 "nbformat": 4,
 "nbformat_minor": 2
}
