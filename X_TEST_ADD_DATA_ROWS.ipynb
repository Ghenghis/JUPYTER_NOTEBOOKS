{
 "cells": [
  {
   "cell_type": "code",
   "execution_count": 3,
   "metadata": {},
   "outputs": [],
   "source": [
    "from openpyxl import Workbook\n",
    "\n",
    "path = \"DATA_FILES/X_TEST_Z8_ADD_DATA_ROWS.xlsx\"\n",
    "\n",
    "def create_workbook(path):\n",
    "    workbook = Workbook()\n",
    "    sheet = workbook.active\n",
    "    data = [[1, 2, 3],\n",
    "            [\"a\", \"b\", \"c\"],\n",
    "            [44, 55, 66]]\n",
    "    for row in data:\n",
    "        sheet.append(row)\n",
    "    workbook.save(path)\n",
    "\n",
    "if __name__ == \"__main__\":\n",
    "    create_workbook(path)"
   ]
  },
  {
   "cell_type": "markdown",
   "metadata": {},
   "source": []
  }
 ],
 "metadata": {
  "kernelspec": {
   "display_name": ".venv",
   "language": "python",
   "name": "python3"
  },
  "language_info": {
   "codemirror_mode": {
    "name": "ipython",
    "version": 3
   },
   "file_extension": ".py",
   "mimetype": "text/x-python",
   "name": "python",
   "nbconvert_exporter": "python",
   "pygments_lexer": "ipython3",
   "version": "3.11.8"
  }
 },
 "nbformat": 4,
 "nbformat_minor": 2
}
