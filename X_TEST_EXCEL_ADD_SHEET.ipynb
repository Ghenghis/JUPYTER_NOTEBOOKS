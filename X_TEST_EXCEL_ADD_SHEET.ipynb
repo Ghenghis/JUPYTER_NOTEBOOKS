{
 "cells": [
  {
   "cell_type": "code",
   "execution_count": 1,
   "metadata": {},
   "outputs": [],
   "source": [
    "from openpyxl import Workbook\n",
    "\n",
    "path = \"DATA_FILES/X_TEST_EXCEL_ADD_SHEET.xlsx\"\n",
    "\n",
    "def create_sheets(path):\n",
    "    workbook = Workbook()\n",
    "    sheet = workbook.active\n",
    "    sheet.title = \"HEY\"\n",
    "    sheet2 = workbook.create_sheet(title=\"WORLD!\")\n",
    "    workbook.save(path)\n",
    "\n",
    "if __name__ == \"__main__\":\n",
    "    create_sheets(path)"
   ]
  }
 ],
 "metadata": {
  "kernelspec": {
   "display_name": ".venv",
   "language": "python",
   "name": "python3"
  },
  "language_info": {
   "codemirror_mode": {
    "name": "ipython",
    "version": 3
   },
   "file_extension": ".py",
   "mimetype": "text/x-python",
   "name": "python",
   "nbconvert_exporter": "python",
   "pygments_lexer": "ipython3",
   "version": "3.11.8"
  }
 },
 "nbformat": 4,
 "nbformat_minor": 2
}
