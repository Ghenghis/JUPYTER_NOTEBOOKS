{
 "cells": [
  {
   "cell_type": "code",
   "execution_count": 6,
   "metadata": {},
   "outputs": [
    {
     "name": "stdout",
     "output_type": "stream",
     "text": [
      "   TITLE  LAST_NAME FIRST_NAME STATE  YR  AGE  CALC_101_FINAL  ENG_101_FINAL  \\\n",
      "10  Miss      Crock     Rachel    FL   1   14             NaN           60.0   \n",
      "11   Mr.   McDonald        Bob    FL   1   13            98.0           65.0   \n",
      "5   Miss  NISHIHARA     ALAN_3    PA   1   19             NaN            NaN   \n",
      "3    Mr.  NISHIHARA     ALAN_2    NY   1   30            90.0           80.0   \n",
      "4    Mr.  NISHIHARA     ALAN_2    NY   1   20            80.0            NaN   \n",
      "1    MR.  NISHIHARA     ALAN_1    OR   5   22           100.0          100.0   \n",
      "2    MR.  NISHIHARA     ALAN_1    TX   4   21            99.0           99.0   \n",
      "8   Miss    OConner       Jane    HI   2   16             NaN            NaN   \n",
      "9   Miss        Rao    Felicia    NY   3   15             NaN            NaN   \n",
      "7    Mr.    Reichel       Omar    OK   2   17            70.0           50.0   \n",
      "6   Miss      Thiel      Linda    CA   4   18            60.0           40.0   \n",
      "\n",
      "    ECON_101_FINAL  STAT_201_FINAL  \n",
      "10             NaN             NaN  \n",
      "11             NaN             NaN  \n",
      "5              NaN             NaN  \n",
      "3             90.0           200.0  \n",
      "4             80.0           300.0  \n",
      "1            100.0           100.0  \n",
      "2             99.0           101.0  \n",
      "8              NaN             NaN  \n",
      "9              NaN             NaN  \n",
      "7              NaN             NaN  \n",
      "6              NaN             NaN  \n"
     ]
    }
   ],
   "source": [
    "import pandas as pd\n",
    "import xlwings as xw\n",
    "\n",
    "students = (\n",
    "  {'TITLE': ['MR.', 'MR.', 'Mr.', 'Mr.', 'Miss', 'Miss', 'Mr.', 'Miss', 'Miss', 'Miss', 'Mr.'],\n",
    "   'LAST_NAME': ['NISHIHARA', 'NISHIHARA', 'NISHIHARA', 'NISHIHARA', 'NISHIHARA', 'Thiel', 'Reichel',\n",
    "                 'OConner', 'Rao', 'Crock', 'McDonald'],\n",
    "   'FIRST_NAME': ['ALAN_1', 'ALAN_1', 'ALAN_2', 'ALAN_2', 'ALAN_3', 'Linda', 'Omar', 'Jane', 'Felicia', 'Rachel', 'Bob'],\n",
    "   'STATE': ['OR', 'TX', 'NY', 'NY', 'PA', 'CA', 'OK', 'HI',\n",
    "                  'NY','FL', 'FL'],\n",
    "   'YR': [5, 4, 1, 1, 1, 4, 2, 2, 3, 1, 1],\n",
    "   'AGE': [22, 21, 30, 20, 19, 18, 17, 16, 15, 14, 13],\n",
    "   'CALC_101_FINAL': [100, 99, 90, 80, None, 60, 70, None, None, None, 98],\n",
    "   'ENG_101_FINAL': [100, 99, 80, None, None, 40, 50, None, None, 60, 65],\n",
    "   'ECON_101_FINAL': [100, 99, 90, 80, None, None, None, None, None, None, None],\n",
    "   'STAT_201_FINAL': [100, 101, 200, 300, None, None, None, None, None, None, None]})\n",
    "\n",
    "df_students = pd.DataFrame(students)\n",
    "df_students.index = [1,2,3,4,5,6,7,8,9,10,11]\n",
    "\n",
    "# FILTER data\n",
    "filtered_df = df_students.loc[(df_students['AGE'] > 1) & (df_students['YR'] > 0)]\n",
    "\n",
    "# SORT data\n",
    "sorted_df = filtered_df.sort_values(by=['LAST_NAME', 'FIRST_NAME', 'AGE'], ascending=[True, False, False])\n",
    "\n",
    "# PRINT FILTERED and SORTED data\n",
    "print(sorted_df)"
   ]
  }
 ],
 "metadata": {
  "kernelspec": {
   "display_name": ".venv",
   "language": "python",
   "name": "python3"
  },
  "language_info": {
   "codemirror_mode": {
    "name": "ipython",
    "version": 3
   },
   "file_extension": ".py",
   "mimetype": "text/x-python",
   "name": "python",
   "nbconvert_exporter": "python",
   "pygments_lexer": "ipython3",
   "version": "3.12.3"
  }
 },
 "nbformat": 4,
 "nbformat_minor": 2
}
