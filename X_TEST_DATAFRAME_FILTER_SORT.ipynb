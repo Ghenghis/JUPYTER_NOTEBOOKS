{
 "cells": [
  {
   "cell_type": "code",
   "execution_count": null,
   "metadata": {},
   "outputs": [],
   "source": [
    "import pandas as pd\n",
    "import xlwings as xw\n",
    "\n",
    "students = (\n",
    "  {'TITLE': ['MR.', 'MR.', 'Mr.', 'Mr.', 'Miss', 'Miss', 'Mr.', 'Miss', 'Miss', 'Miss', 'Mr.'],\n",
    "   'LAST_NAME': ['NISHIHARA', 'NISHIHARA', 'NISHIHARA', 'NISHIHARA', 'NISHIHARA', 'Thiel', 'Reichel',\n",
    "                 'OConner', 'Rao', 'Crock', 'McDonald'],\n",
    "   'FIRST_NAME': ['ALAN_1', 'ALAN_1', 'ALAN_1', 'ALAN_1', 'ALAN_1', 'Linda', 'Omar', 'Jane', 'Felicia', 'Rachel', 'Bob'],\n",
    "   'STATE': ['OR', 'TX', 'NY', 'NY', 'PA', 'CA', 'OK', 'HI',\n",
    "                  'NY','FL', 'FL'],\n",
    "   'YR': [5, 4, 1, 1, 1, 4, 2, 2, 3, 1, 1],\n",
    "   'AGE': [22, 21, 30, 20, 19, 18, 17, 16, 15, 14, 13],\n",
    "   'CALC_101_FINAL': [100, 99, 90, 80, None, 60, 70, None, None, None, 98],\n",
    "   'ENG_101_FINAL': [100, 99, 80, None, None, 40, 50, None, None, 60, 65],\n",
    "   'ECON_101_FINAL': [100, 99, 90, 80, None, None, None, None, None, None, None],\n",
    "   'STAT_201_FINAL': [100, 101, 200, 300, None, None, None, None, None, None, None]})\n",
    "\n",
    "df_students = pd.DataFrame(students)\n",
    "df_students.index = [1,2,3,4,5,6,7,8,9,10,11]\n",
    "\n",
    "# FILTER data\n",
    "filtered_df = df_students.loc[(df_students['AGE'] > 1) & (df_students['YR'] > 0)]\n",
    "\n",
    "# SORT data\n",
    "sorted_df = filtered_df.sort_values(by=['LAST_NAME', 'FIRST_NAME', 'AGE'], ascending=[True, True, True])\n",
    "\n",
    "# PRINT FILTERED and SORTED data\n",
    "print(sorted_df)"
   ]
  }
 ],
 "metadata": {
  "kernelspec": {
   "display_name": ".venv",
   "language": "python",
   "name": "python3"
  },
  "language_info": {
   "codemirror_mode": {
    "name": "ipython",
    "version": 3
   },
   "file_extension": ".py",
   "mimetype": "text/x-python",
   "name": "python",
   "nbconvert_exporter": "python",
   "pygments_lexer": "ipython3",
   "version": "3.12.2"
  }
 },
 "nbformat": 4,
 "nbformat_minor": 2
}
