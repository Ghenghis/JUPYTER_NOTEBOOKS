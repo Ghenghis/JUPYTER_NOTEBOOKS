{
 "cells": [
  {
   "cell_type": "code",
   "execution_count": 3,
   "metadata": {},
   "outputs": [],
   "source": [
    "import openpyxl\n",
    "from openpyxl.styles import Font\n",
    "\n",
    "def font_demo(path):\n",
    "    workbook = openpyxl.Workbook()\n",
    "    sheet = workbook.active\n",
    "    cell = sheet[\"A1\"]\n",
    "    cell.font = Font(size=12)\n",
    "    cell.value = \"Hello\"\n",
    "\n",
    "    cell2 = sheet[\"A2\"]\n",
    "    cell2.font = Font(name=\"Arial\", size=14, color=\"00FF0000\")\n",
    "    sheet[\"A2\"] = \"from\"\n",
    "\n",
    "    cell2 = sheet[\"A3\"]\n",
    "    cell2.font = Font(name=\"Tahoma\", size=16, color=\"00339966\")\n",
    "    sheet[\"A3\"] = \"OpenPyXL\"\n",
    "\n",
    "    workbook.save(path)\n",
    "\n",
    "if __name__ == \"__main__\":\n",
    "    path = \"DATA_FILES/X_TEST_Z8_FONT_SIZES.xlsx\"\n",
    "    font_demo(path)"
   ]
  },
  {
   "cell_type": "markdown",
   "metadata": {},
   "source": []
  }
 ],
 "metadata": {
  "kernelspec": {
   "display_name": ".venv",
   "language": "python",
   "name": "python3"
  },
  "language_info": {
   "codemirror_mode": {
    "name": "ipython",
    "version": 3
   },
   "file_extension": ".py",
   "mimetype": "text/x-python",
   "name": "python",
   "nbconvert_exporter": "python",
   "pygments_lexer": "ipython3",
   "version": "3.11.8"
  }
 },
 "nbformat": 4,
 "nbformat_minor": 2
}
