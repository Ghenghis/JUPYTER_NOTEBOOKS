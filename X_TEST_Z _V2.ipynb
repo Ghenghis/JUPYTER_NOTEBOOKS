{
 "cells": [
  {
   "cell_type": "code",
   "execution_count": 4,
   "metadata": {},
   "outputs": [
    {
     "name": "stdout",
     "output_type": "stream",
     "text": [
      "7.0\n"
     ]
    },
    {
     "data": {
      "text/plain": [
       "Nation(Name='Poland', Population=37846611, Pct_Change=-0.11, Net_Change=-41157, Density=124.0, Area=306230)"
      ]
     },
     "execution_count": 4,
     "metadata": {},
     "output_type": "execute_result"
    }
   ],
   "source": [
    "#####\n",
    "# for i in range(4):\n",
    "#     for j in range(4):\n",
    "#         if j > i:\n",
    "#             break\n",
    "#         print(i, j)\n",
    "\n",
    "#####\n",
    "\n",
    "result = 30 // 3.9\n",
    "print(result)\n",
    "\n",
    "##### FROM BOOK:  BETTER PYTHON CODE; pages 144-145 #####\n",
    "\n",
    "from typing import NamedTuple\n",
    "\n",
    "class Nation(NamedTuple):\n",
    "    Name: str\n",
    "    Population: int\n",
    "    Pct_Change: float\n",
    "    Net_Change: int\n",
    "    Density: float\n",
    "    Area: int\n",
    "\n",
    "poland = Nation('Poland', 37_846_611, -0.11, -41_157, Density=124.0, Area=306_230)\n",
    "\n",
    "poland"
   ]
  }
 ],
 "metadata": {
  "kernelspec": {
   "display_name": "Python 3",
   "language": "python",
   "name": "python3"
  },
  "language_info": {
   "codemirror_mode": {
    "name": "ipython",
    "version": 3
   },
   "file_extension": ".py",
   "mimetype": "text/x-python",
   "name": "python",
   "nbconvert_exporter": "python",
   "pygments_lexer": "ipython3",
   "version": "3.12.3"
  }
 },
 "nbformat": 4,
 "nbformat_minor": 2
}
