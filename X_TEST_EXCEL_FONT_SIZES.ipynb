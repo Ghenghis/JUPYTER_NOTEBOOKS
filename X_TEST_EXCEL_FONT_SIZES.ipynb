{
 "cells": [
  {
   "cell_type": "code",
   "execution_count": 30,
   "metadata": {},
   "outputs": [
    {
     "data": {
      "text/html": [
       "<div>\n",
       "<style scoped>\n",
       "    .dataframe tbody tr th:only-of-type {\n",
       "        vertical-align: middle;\n",
       "    }\n",
       "\n",
       "    .dataframe tbody tr th {\n",
       "        vertical-align: top;\n",
       "    }\n",
       "\n",
       "    .dataframe thead th {\n",
       "        text-align: right;\n",
       "    }\n",
       "</style>\n",
       "<table border=\"1\" class=\"dataframe\">\n",
       "  <thead>\n",
       "    <tr style=\"text-align: right;\">\n",
       "      <th></th>\n",
       "      <th>THIS IS CELL A1</th>\n",
       "    </tr>\n",
       "  </thead>\n",
       "  <tbody>\n",
       "    <tr>\n",
       "      <th>0</th>\n",
       "      <td>THIS IS CELL A2</td>\n",
       "    </tr>\n",
       "    <tr>\n",
       "      <th>1</th>\n",
       "      <td>THIS IS CELL A3</td>\n",
       "    </tr>\n",
       "  </tbody>\n",
       "</table>\n",
       "</div>"
      ],
      "text/plain": [
       "   THIS IS CELL A1\n",
       "0  THIS IS CELL A2\n",
       "1  THIS IS CELL A3"
      ]
     },
     "metadata": {},
     "output_type": "display_data"
    }
   ],
   "source": [
    "import pandas as pd\n",
    "import openpyxl\n",
    "from openpyxl.styles import Font\n",
    "from openpyxl.utils import get_column_letter\n",
    "\n",
    "path = \"DATA_FILES/X_TEST_EXCEL_FONT_SIZES.xlsx\"\n",
    "\n",
    "brown = \"00A52A2A\"\n",
    "red = \"00FF0000\"\n",
    "darkgreen = \"00006400\"\n",
    "purple = \"00800080\"\n",
    "\n",
    "df = pd.read_excel(path)\n",
    "\n",
    "def font_demo(path):\n",
    "    workbook = openpyxl.Workbook()\n",
    "    sheet = workbook.active\n",
    "    \n",
    "    cell = sheet[\"A1\"]\n",
    "    cell.font = Font(name=\"Calibri\", size=50, color=red, bold=True)\n",
    "    sheet[\"A1\"] = \"THIS IS CELL A1\"\n",
    "\n",
    "    cell = sheet[\"A2\"]\n",
    "    cell.font = Font(name=\"Calibri\", size=50, color=red)\n",
    "    sheet[\"A2\"] = \"THIS IS CELL A2\"\n",
    "\n",
    "B2Font(name=\"Ventura\", size=25, color=browAn\n",
    "    sheet[] \"THIS I    cell = sheet[\"A3\"]\n",
    "    cell.font = Font(name=\"Calibri\", size=50, color=red, bold=True)\n",
    "    sheet[\"A3\"] = \"THIS IS CELL A3\"\n",
    "\n",
    "    column_letter = get_column_letter(1)  # COLUMN A\n",
    "    sheet.column_dimensions[column_letter].width = 60.00\n",
    "    workbook.save(path)\n",
    "\n",
    "    column_letter = get_column_letter(2)  # COLUMN B\n",
    "    sheet.column_dimensions[column_letter].width = 2.00\n",
    "    workbook.save(path)\n",
    "\n",
    "    column_letter = get_column_letter(3)  # COLUMN C\n",
    "    sheet.column_dimensions[column_letter].width = 2.00\n",
    "    workbook.save(path)\n",
    "\n",
    "if __name__ == \"__main__\":\n",
    "    font_demo(path)\n",
    "    display(df)"
   ]
  }
 ],
 "metadata": {
  "kernelspec": {
   "display_name": ".venv",
   "language": "python",
   "name": "python3"
  },
  "language_info": {
   "codemirror_mode": {
    "name": "ipython",
    "version": 3
   },
   "file_extension": ".py",
   "mimetype": "text/x-python",
   "name": "python",
   "nbconvert_exporter": "python",
   "pygments_lexer": "ipython3",
   "version": "3.12.3"
  }
 },
 "nbformat": 4,
 "nbformat_minor": 2
}
