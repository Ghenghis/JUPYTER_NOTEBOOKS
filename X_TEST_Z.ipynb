{
 "cells": [
  {
   "cell_type": "code",
   "execution_count": null,
   "metadata": {},
   "outputs": [],
   "source": [
    "# count = 0\n",
    "# while count <= 15:\n",
    "#     print(\"Count:\", count)\n",
    "#     count += 1\n",
    "\n",
    "#####\n",
    "# def process_data(data):\n",
    "#     try:\n",
    "#         data = int(input('Enter an integer between 1 and 10'))\n",
    "#         match data:\n",
    "#             case 0:\n",
    "#                 print(\"Data is zero\")\n",
    "#             case 1:\n",
    "#                 print(\"Data is one\")\n",
    "#             case 2:\n",
    "#                 print(\"Data is two\")\n",
    "#             case _:\n",
    "#                 print(\"Data is not zero, one, or two\")\n",
    "#     except ValueError:\n",
    "#         print(\"INVALID DATA ENTRY:  The data you entered is not an integer\")\n",
    "\n",
    "# process_data(data)\n",
    "\n",
    "##### EXAMPLE OF \"continue\" CONTROL FLOW STATEMENT #####\n",
    "\n",
    "# for i in range(10):\n",
    "#     if i % 2 == 0:\n",
    "#         continue\n",
    "#     print(i)\n",
    "\n",
    "##### EXAMPLE OF \"return\" CONTROL FLOW STATEMENT #####\n",
    "\n",
    "def add(a, b):\n",
    "    return a + b\n",
    "def multiply(a, b):\n",
    "    return a * b\n",
    "def divide(a, b):\n",
    "    return a / b\n",
    "def powerof1(a, b):\n",
    "    return a**b\n",
    "\n",
    "while True:\n",
    "    try:\n",
    "        print(\"PROGRAM STARTED\\n\")\n",
    "        a = float(input(\"Enter the first (of two) numbers: \"))\n",
    "        b = float(input(\"Enter the second (of two) numbers: \"))\n",
    "        print(f\"YOU ENTERED: {a} and {b}\\n\")\n",
    "        sum = \"{:,.2f}\".format(add(a, b))\n",
    "        print(f\"{a} + {b} = {sum}\")\n",
    "        product = \"{:,.2f}\".format(multiply(a, b))\n",
    "        print(f\"{a} x {b} = {product}\")\n",
    "        quotient = \"{:,.2f}\".format(divide(a, b))\n",
    "        print(f\"{a} / {b} = {quotient}\")\n",
    "        powerof2 = \"{:,.2f}\".format(powerof1(a, b))\n",
    "        print(f\"{a} to the power of {b} = {powerof2}\")\n",
    "        break\n",
    "    except ValueError:\n",
    "        print(\"\\nINVALID DATA ENTERED:  PYTHON SCRIPT TERMINATED\")\n",
    "        break\n",
    "    except ZeroDivisionError:\n",
    "        print(\"\\nDIVIDE BY ZERO ERROR:  PYTHON SCRIPT TERMINATED\")\n",
    "        break"
   ]
  },
  {
   "cell_type": "code",
   "execution_count": null,
   "metadata": {},
   "outputs": [],
   "source": [
    "##### FROM O'REILLY BOOK P. 282:  PYTHON FOR DATA ANALYSIS #####\n",
    "\n",
    "import matplotlib.pyplot as plt\n",
    "import numpy as np\n",
    "\n",
    "data = np.arange(10)\n",
    "\n",
    "data\n",
    "\n",
    "plt.plot(data)\n",
    "\n",
    "fig = plt.figure()\n",
    "ax1 = fig.add_subplot(2, 2, 1)\n",
    "ax2 = fig.add_subplot(2, 2, 2)\n",
    "ax3 = fig.add_subplot(2, 2, 3)\n",
    "\n",
    "ax1.hist(np.random.standard_normal(100), bins=20, color=\"green\", alpha=0.3)\n",
    "ax2.scatter(np.arange(30), np.arange(30) + 3 * np.random.standard_normal(30))\n",
    "ax3.plot(np.random.standard_normal(50).cumsum(), color=\"red\",linestyle=\"dashed\")"
   ]
  },
  {
   "cell_type": "code",
   "execution_count": null,
   "metadata": {},
   "outputs": [],
   "source": [
    "##### FROM O'REILLY BOOK P. 301:  PYTHON FOR DATA ANALYSIS #####\n",
    "\n",
    "import pandas as pd\n",
    "\n",
    "fig, axes = plt.subplots(2, 1)\n",
    "data = pd.Series(np.random.rand(16), index=list(\"abcdefghijklmnop\"))\n",
    "data.plot.bar(ax=axes[0], color=\"blue\", alpha=0.7)\n",
    "data.plot.barh(ax=axes[1], color=\"red\", alpha=0.7)"
   ]
  },
  {
   "cell_type": "code",
   "execution_count": null,
   "metadata": {},
   "outputs": [],
   "source": [
    "##### FROM O'REILLY BOOK P. 302:  PYTHON FOR DATA ANALYSIS #####\n",
    "\n",
    "import pandas as pd\n",
    "\n",
    "df = pd.DataFrame(np.random.uniform(size=(6, 4)), index=[\"one\", \"two\", \"three\", \"four\", \"five\", \"six\"], columns=pd.Index([\"A\", \"B\", \"C\", \"D\"], name=\"Genus\"))\n",
    "                 \n",
    "print(df)\n",
    "\n",
    "df.plot.bar()\n",
    "df.plot.barh(stacked=True, alpha=0.5)"
   ]
  },
  {
   "cell_type": "code",
   "execution_count": null,
   "metadata": {},
   "outputs": [],
   "source": [
    "### ZOOMOUT GRAPH DISPLAY FROM CHATGPT ###\n",
    "\n",
    "import matplotlib.pyplot as plt\n",
    "\n",
    "x = 25\n",
    "y = 25\n",
    "\n",
    "# Zoomed-in plot\n",
    "x_zoom = 100\n",
    "y_zoom = 100\n",
    "\n",
    "x_min_zoom = 25\n",
    "y_min_zoom = 25\n",
    "\n",
    "x_max_zoom = 25\n",
    "y_max_zoom = 25\n",
    "\n",
    "# Create the main plot\n",
    "fig, ax = plt.subplots()\n",
    "ax.plot(x, y)\n",
    "\n",
    "# Create the zoomed-in plot\n",
    "# ax_zoom = ax.inset_axes([0.25, 0.25, 0.5, 0.5])  # Specify the position and size of the zoomed-in plot\n",
    "ax_zoom = ax.inset_axes([0.25, 0.25, 0.25, 0.25])\n",
    "ax_zoom.plot(x_zoom, y_zoom)\n",
    "\n",
    "# Add the zoomed-in plot to the main plot\n",
    "ax.indicate_inset_zoom(ax_zoom, edgecolor='blue')\n",
    "\n",
    "# Customize the appearance of the zoomed-in plot\n",
    "ax_zoom.set_xlim(x_min_zoom, x_max_zoom)\n",
    "ax_zoom.set_ylim(y_min_zoom, y_max_zoom)\n",
    "\n",
    "# Show the plot\n",
    "plt.show()"
   ]
  },
  {
   "cell_type": "code",
   "execution_count": null,
   "metadata": {},
   "outputs": [],
   "source": [
    "print(\"Hey! \" * 5)"
   ]
  },
  {
   "cell_type": "code",
   "execution_count": null,
   "metadata": {},
   "outputs": [
    {
     "ename": "",
     "evalue": "",
     "output_type": "error",
     "traceback": [
      "\u001b[1;31mThe kernel failed to start due to the missing module 'IPython'. Consider installing this module.\n",
      "\u001b[1;31mClick <a href='https://aka.ms/kernelFailuresMissingModule'>here</a> for more info."
     ]
    }
   ],
   "source": [
    "from itertools import product\n",
    "from string import ascii_uppercase as alphabet\n",
    "\n",
    "def gen_license_plates():\n",
    "    for letters in product(alphabet, repeat-3)\n",
    "        letters = \"\".join(letters)\n",
    "        if letters == 'GOV':\n",
    "            continue\n",
    "\n",
    "        for numbers in range(1000):\n",
    "            yield f\"{letters}{numbers:03}\""
   ]
  }
 ],
 "metadata": {
  "kernelspec": {
   "display_name": "Python 3",
   "language": "python",
   "name": "python3"
  },
  "language_info": {
   "codemirror_mode": {
    "name": "ipython",
    "version": 3
   },
   "file_extension": ".py",
   "mimetype": "text/x-python",
   "name": "python",
   "nbconvert_exporter": "python",
   "pygments_lexer": "ipython3",
   "version": "3.12.3"
  }
 },
 "nbformat": 4,
 "nbformat_minor": 2
}
