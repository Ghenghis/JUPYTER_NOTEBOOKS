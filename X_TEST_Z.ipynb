{
 "cells": [
  {
   "cell_type": "code",
   "execution_count": 8,
   "metadata": {},
   "outputs": [
    {
     "name": "stdout",
     "output_type": "stream",
     "text": [
      "PROGRAM STARTED\n",
      "\n",
      "YOU ENTERED: 9.0 and 2.0\n",
      "\n",
      "9.0 + 2.0 = 11.00\n",
      "9.0 x 2.0 = 18.00\n",
      "9.0 / 2.0 = 4.50\n",
      "9.0 to the power of 2.0 = 81.00\n"
     ]
    }
   ],
   "source": [
    "# count = 0\n",
    "# while count <= 15:\n",
    "#     print(\"Count:\", count)\n",
    "#     count += 1\n",
    "\n",
    "#####\n",
    "# def process_data(data):\n",
    "#     try:\n",
    "#         data = int(input('Enter an integer between 1 and 10'))\n",
    "#         match data:\n",
    "#             case 0:\n",
    "#                 print(\"Data is zero\")\n",
    "#             case 1:\n",
    "#                 print(\"Data is one\")\n",
    "#             case 2:\n",
    "#                 print(\"Data is two\")\n",
    "#             case _:\n",
    "#                 print(\"Data is not zero, one, or two\")\n",
    "#     except ValueError:\n",
    "#         print(\"INVALID DATA ENTRY:  The data you entered is not an integer\")\n",
    "\n",
    "# process_data(data)\n",
    "\n",
    "##### EXAMPLE OF \"continue\" CONTROL FLOW STATEMENT #####\n",
    "\n",
    "# for i in range(10):\n",
    "#     if i % 2 == 0:\n",
    "#         continue\n",
    "#     print(i)\n",
    "\n",
    "##### EXAMPLE OF \"return\" CONTROL FLOW STATEMENT #####\n",
    "\n",
    "def add(a, b):\n",
    "    return a + b\n",
    "def multiply(a, b):\n",
    "    return a * b\n",
    "def divide(a, b):\n",
    "    return a / b\n",
    "def powerof1(a, b):\n",
    "    return a**b\n",
    "\n",
    "while True:\n",
    "    try:\n",
    "        print(\"PROGRAM STARTED\\n\")\n",
    "        a = float(input(\"Enter the first (of two) numbers: \"))\n",
    "        b = float(input(\"Enter the second (of two) numbers: \"))\n",
    "        print(f\"YOU ENTERED: {a} and {b}\\n\")\n",
    "        sum = \"{:,.2f}\".format(add(a, b))\n",
    "        print(f\"{a} + {b} = {sum}\")\n",
    "        product = \"{:,.2f}\".format(multiply(a, b))\n",
    "        print(f\"{a} x {b} = {product}\")\n",
    "        quotient = \"{:,.2f}\".format(divide(a, b))\n",
    "        print(f\"{a} / {b} = {quotient}\")\n",
    "        powerof2 = \"{:,.2f}\".format(powerof1(a, b))\n",
    "        print(f\"{a} to the power of {b} = {powerof2}\")\n",
    "        break\n",
    "    except ValueError:\n",
    "        print(\"\\nInvalid data entry:  PROGRAM TERMINATED\")\n",
    "        break\n",
    "    except ZeroDivisionError:\n",
    "        print(\"\\nDivide by zero error:  PROGRAM TERMINATED\")\n",
    "        break"
   ]
  }
 ],
 "metadata": {
  "kernelspec": {
   "display_name": "Python 3",
   "language": "python",
   "name": "python3"
  },
  "language_info": {
   "codemirror_mode": {
    "name": "ipython",
    "version": 3
   },
   "file_extension": ".py",
   "mimetype": "text/x-python",
   "name": "python",
   "nbconvert_exporter": "python",
   "pygments_lexer": "ipython3",
   "version": "3.12.3"
  }
 },
 "nbformat": 4,
 "nbformat_minor": 2
}
