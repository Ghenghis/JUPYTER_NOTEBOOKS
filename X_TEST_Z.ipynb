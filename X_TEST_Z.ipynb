{
 "cells": [
  {
   "cell_type": "code",
   "execution_count": null,
   "metadata": {},
   "outputs": [],
   "source": [
    "# count = 0\n",
    "# while count <= 15:\n",
    "#     print(\"Count:\", count)\n",
    "#     count += 1\n",
    "\n",
    "#####\n",
    "# def process_data(data):\n",
    "#     try:\n",
    "#         data = int(input('Enter an integer between 1 and 10'))\n",
    "#         match data:\n",
    "#             case 0:\n",
    "#                 print(\"Data is zero\")\n",
    "#             case 1:\n",
    "#                 print(\"Data is one\")\n",
    "#             case 2:\n",
    "#                 print(\"Data is two\")\n",
    "#             case _:\n",
    "#                 print(\"Data is not zero, one, or two\")\n",
    "#     except ValueError:\n",
    "#         print(\"INVALID DATA ENTRY:  The data you entered is not an integer\")\n",
    "\n",
    "# process_data(data)\n",
    "\n",
    "##### EXAMPLE OF \"continue\" CONTROL FLOW STATEMENT #####\n",
    "\n",
    "# for i in range(10):\n",
    "#     if i % 2 == 0:\n",
    "#         continue\n",
    "#     print(i)\n",
    "\n",
    "##### EXAMPLE OF \"return\" CONTROL FLOW STATEMENT #####\n",
    "\n",
    "def add(a, b):\n",
    "    return a + b\n",
    "def multiply(a, b):\n",
    "    return a * b\n",
    "def divide(a, b):\n",
    "    return a / b\n",
    "def powerof1(a, b):\n",
    "    return a**b\n",
    "\n",
    "while True:\n",
    "    try:\n",
    "        print(\"PROGRAM STARTED\\n\")\n",
    "        a = float(input(\"Enter the first (of two) numbers: \"))\n",
    "        b = float(input(\"Enter the second (of two) numbers: \"))\n",
    "        print(f\"YOU ENTERED: {a} and {b}\\n\")\n",
    "        sum = \"{:,.2f}\".format(add(a, b))\n",
    "        print(f\"{a} + {b} = {sum}\")\n",
    "        product = \"{:,.2f}\".format(multiply(a, b))\n",
    "        print(f\"{a} x {b} = {product}\")\n",
    "        quotient = \"{:,.2f}\".format(divide(a, b))\n",
    "        print(f\"{a} / {b} = {quotient}\")\n",
    "        powerof2 = \"{:,.2f}\".format(powerof1(a, b))\n",
    "        print(f\"{a} to the power of {b} = {powerof2}\")\n",
    "        break\n",
    "    except ValueError:\n",
    "        print(\"\\nINVALID DATA ENTERED:  PYTHON SCRIPT TERMINATED\")\n",
    "        break\n",
    "    except ZeroDivisionError:\n",
    "        print(\"\\nDIVIDE BY ZERO ERROR:  PYTHON SCRIPT TERMINATED\")\n",
    "        break"
   ]
  },
  {
   "cell_type": "code",
   "execution_count": null,
   "metadata": {},
   "outputs": [],
   "source": [
    "##### FROM O'REILLY BOOK P. 282:  PYTHON FOR DATA ANALYSIS #####\n",
    "\n",
    "import matplotlib.pyplot as plt\n",
    "\n",
    "data = np.arange(10)\n",
    "data\n",
    "\n",
    "plt.plot(data)\n",
    "\n",
    "fig = plt.figure()\n",
    "ax1 = fig.add_subplot(2, 2, 1)\n",
    "ax2 = fig.add_subplot(2, 2, 2)\n",
    "ax3 = fig.add_subplot(2, 2, 3)\n",
    "\n",
    "ax1.hist(np.random.standard_normal(100), bins=20, color=\"green\", alpha=0.3)\n",
    "ax2.scatter(np.arange(30), np.arange(30) + 3 * np.random.standard_normal(30))\n",
    "ax3.plot(np.random.standard_normal(50).cumsum(), color=\"red\",linestyle=\"dashed\")"
   ]
  },
  {
   "cell_type": "code",
   "execution_count": 13,
   "metadata": {},
   "outputs": [
    {
     "data": {
      "text/plain": [
       "<Axes: >"
      ]
     },
     "execution_count": 13,
     "metadata": {},
     "output_type": "execute_result"
    },
    {
     "data": {
      "image/png": "[encoded data removed]",
      "text/plain": [
       "<Figure size 640x480 with 2 Axes>"
      ]
     },
     "metadata": {},
     "output_type": "display_data"
    }
   ],
   "source": [
    "##### FROM O'REILLY BOOK P. 301:  PYTHON FOR DATA ANALYSIS #####\n",
    "\n",
    "import pandas as pd\n",
    "# import matplotlib.pyplot as plt\n",
    "\n",
    "fig, axes = plt.subplots(2, 1)\n",
    "data = pd.Series(np.random.rand(16), index=list(\"abcdefghijklmnop\"))\n",
    "data.plot.bar(ax=axes[0], color=\"blue\", alpha=0.7)\n",
    "data.plot.barh(ax=axes[1], color=\"red\", alpha=0.7)"
   ]
  }
 ],
 "metadata": {
  "kernelspec": {
   "display_name": "Python 3",
   "language": "python",
   "name": "python3"
  },
  "language_info": {
   "codemirror_mode": {
    "name": "ipython",
    "version": 3
   },
   "file_extension": ".py",
   "mimetype": "text/x-python",
   "name": "python",
   "nbconvert_exporter": "python",
   "pygments_lexer": "ipython3",
   "version": "3.12.3"
  }
 },
 "nbformat": 4,
 "nbformat_minor": 2
}
