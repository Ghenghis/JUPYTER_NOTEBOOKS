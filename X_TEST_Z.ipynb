{
 "cells": [
  {
   "cell_type": "code",
   "execution_count": null,
   "metadata": {},
   "outputs": [],
   "source": [
    "# count = 0\n",
    "# while count <= 15:\n",
    "#     print(\"Count:\", count)\n",
    "#     count += 1\n",
    "\n",
    "#####\n",
    "# def process_data(data):\n",
    "#     try:\n",
    "#         data = int(input('Enter an integer between 1 and 10'))\n",
    "#         match data:\n",
    "#             case 0:\n",
    "#                 print(\"Data is zero\")\n",
    "#             case 1:\n",
    "#                 print(\"Data is one\")\n",
    "#             case 2:\n",
    "#                 print(\"Data is two\")\n",
    "#             case _:\n",
    "#                 print(\"Data is not zero, one, or two\")\n",
    "#     except ValueError:\n",
    "#         print(\"INVALID DATA ENTRY:  The data you entered is not an integer\")\n",
    "\n",
    "# process_data(data)\n",
    "\n",
    "##### EXAMPLE USE OF \"continue\" #####\n",
    "\n",
    "# for i in range(10):\n",
    "#     if i % 2 == 0:\n",
    "#         continue\n",
    "#     print(i)\n",
    "\n",
    "##### EXAMPLE USE OF \"return\" #####\n",
    "\n",
    "def add(a, b):\n",
    "    return a + b\n",
    "\n",
    "a = float(input(\"Enter first of two numbers: \"))\n",
    "b = float(input(\"Enter second of two numbers: \"))\n",
    "\n",
    "result = (a * b)\n",
    "result2 = \"{:,.2f}\".format(result)\n",
    "\n",
    "print(f\"{a} x {b} = {result2}\")"
   ]
  }
 ],
 "metadata": {
  "kernelspec": {
   "display_name": "Python 3",
   "language": "python",
   "name": "python3"
  },
  "language_info": {
   "codemirror_mode": {
    "name": "ipython",
    "version": 3
   },
   "file_extension": ".py",
   "mimetype": "text/x-python",
   "name": "python",
   "nbconvert_exporter": "python",
   "pygments_lexer": "ipython3",
   "version": "3.12.3"
  }
 },
 "nbformat": 4,
 "nbformat_minor": 2
}
