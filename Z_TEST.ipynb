{
 "cells": [
  {
   "cell_type": "code",
   "execution_count": 42,
   "metadata": {},
   "outputs": [
    {
     "name": "stdout",
     "output_type": "stream",
     "text": [
      "foo\n",
      "bar\n"
     ]
    }
   ],
   "source": [
    "# Python decorators example ###\n",
    "\n",
    "var1 = 'foo'\n",
    "\n",
    "def identity(var1):\n",
    "    return var1\n",
    "\n",
    "print(identity(var1))\n",
    "\n",
    "@identity\n",
    "def foo():\n",
    "    return 'bar'\n",
    "\n",
    "print(foo())"
   ]
  },
  {
   "cell_type": "code",
   "execution_count": 10,
   "metadata": {},
   "outputs": [
    {
     "name": "stdout",
     "output_type": "stream",
     "text": [
      "Error:  Please enter two numbers instead\n",
      "\n",
      "Error:  Please enter two numbers instead\n",
      "\n",
      "Error:  Please enter two numbers instead\n",
      "\n",
      "Error:  Please enter two numbers instead\n",
      "\n",
      "Error:  Please enter two numbers instead\n",
      "\n",
      "The numbers you entered were accepted\n",
      "16.0 is equal to 16.0\n",
      "\n"
     ]
    }
   ],
   "source": [
    "##### Write a function that returns the larger of two numbers #####\n",
    "\n",
    "def get_larger_number(n1, n2):\n",
    "    if n1 > n2:\n",
    "        return f\"{n1} is larger than {n2}\\n\"\n",
    "    elif n2 > n1:\n",
    "        return f\"{n2} is larger than {n1}\\n\"\n",
    "    else:\n",
    "        return f\"{n1} is equal to {n2}\\n\"\n",
    "\n",
    "while True:\n",
    "    try:\n",
    "        n1 = float(input(\"Enter the first number: \"))\n",
    "        n2 = float(input(\"Enter the second number: \"))\n",
    "    except ValueError:\n",
    "        print(\"Error:  Please enter two numbers instead\\n\")\n",
    "    else:\n",
    "        print(\"The numbers you entered were accepted\")\n",
    "        print(get_larger_number(n1, n2))\n",
    "        break"
   ]
  },
  {
   "cell_type": "code",
   "execution_count": 39,
   "metadata": {},
   "outputs": [
    {
     "name": "stdout",
     "output_type": "stream",
     "text": [
      "5000\n"
     ]
    }
   ],
   "source": [
    "####\n",
    "x = 4000\n",
    "\n",
    "while x <= 4000 and x >= 0:\n",
    "    x += 1000\n",
    "    print(x)"
   ]
  },
  {
   "cell_type": "code",
   "execution_count": 35,
   "metadata": {},
   "outputs": [
    {
     "name": "stdout",
     "output_type": "stream",
     "text": [
      "count = 2\n",
      "fruit = 'Pear'\n"
     ]
    }
   ],
   "source": [
    "####\n",
    "count = 2\n",
    "fruit = \"Pear\"\n",
    "\n",
    "print(f\"{count = }\")\n",
    "print(f\"{fruit = }\")"
   ]
  },
  {
   "cell_type": "code",
   "execution_count": 32,
   "metadata": {},
   "outputs": [
    {
     "name": "stdout",
     "output_type": "stream",
     "text": [
      "\n",
      "999 is larger than 888\n",
      "\n"
     ]
    }
   ],
   "source": [
    "#### Write a function that returns te larger of two numbers #####\n",
    "\n",
    "def get_larger_number(n1, n2):\n",
    "    if n1 > n2:\n",
    "        return f\"\\n{n1} is larger than {n2}\\n\"\n",
    "    elif n2 > n1:\n",
    "        return f\"\\n{n2} is larger than {n1}\\n\"\n",
    "    else:\n",
    "        return f\"\\n{n1} and {n2} are equal\\n\"\n",
    "\n",
    "first_no = input(\"Enter first number: \")\n",
    "second_no = input(\"Enter second number: \")\n",
    "\n",
    "print(get_larger_number(first_no, second_no))"
   ]
  },
  {
   "cell_type": "code",
   "execution_count": 29,
   "metadata": {},
   "outputs": [
    {
     "name": "stdout",
     "output_type": "stream",
     "text": [
      "RESULT OF 1.00 X 124.00 = 124.00 \n",
      "\n"
     ]
    }
   ],
   "source": [
    "##### Write a function that returns the result of a calculation involving two numbers #####\n",
    "\n",
    "n1 = input(\"\\nEnter first number: \")\n",
    "n2 = input(\"Enter second number: \")\n",
    "\n",
    "n1float = float(n1)\n",
    "n2float = float(n2)\n",
    "\n",
    "def get_product(n1float, n2float):\n",
    "    return n1float * n2float\n",
    "\n",
    "product = get_product(n1float, n2float)\n",
    "\n",
    "print(f\"RESULT OF \" '{:,.2f}'.format(n1float), \"X\",'{:,.2f}'.format(n2float), \"=\", '{:,.2f}'.format(product), \"\\n\")"
   ]
  },
  {
   "cell_type": "code",
   "execution_count": 3,
   "metadata": {},
   "outputs": [
    {
     "name": "stdout",
     "output_type": "stream",
     "text": [
      "\n",
      "THIS WAS ORIGINALLY LOWERCASE TEXT, AND WAS CONVERTED TO UPPERCASE USING THE @UPPERCASE DECORATOR\n",
      "this was originally uppercase text, and was converted to lowercase using the @lowercase decorator\n",
      "\n"
     ]
    }
   ],
   "source": [
    "#### DECORATOR EXAMPLES FROM P. 78 OF PYTHON TRICKS #####\n",
    "\n",
    "def uppercase(func):\n",
    "    def wrapper():\n",
    "        original_result = func()\n",
    "        modified_result = original_result.upper()\n",
    "        return modified_result\n",
    "    return wrapper\n",
    "\n",
    "def lowercase(func):\n",
    "    def wrapper():\n",
    "        original_result = func()\n",
    "        modified_result = original_result.lower()\n",
    "        return modified_result\n",
    "    return wrapper\n",
    "\n",
    "@uppercase\n",
    "def greet1():\n",
    "    return '\\nthis was originally lowercase text, and was converted to uppercase using the @uppercase decorator'\n",
    "\n",
    "@lowercase\n",
    "def greet2():\n",
    "    return 'THIS WAS ORIGINALLY UPPERCASE TEXT, AND WAS CONVERTED TO LOWERCASE USING THE @lowercase DECORATOR\\n'\n",
    "\n",
    "print(greet1())\n",
    "print(greet2())"
   ]
  },
  {
   "cell_type": "code",
   "execution_count": null,
   "metadata": {},
   "outputs": [],
   "source": [
    "##### EXAMPLE OF *args AND **kwargs FROM P. 88 OF PYTHON TRICKS:  THE BOOK #####\n",
    "\n",
    "def foo(required, *args, **kwargs):\n",
    "    print(required)\n",
    "    if args:\n",
    "        print(args)\n",
    "    if kwargs:\n",
    "        print(kwargs)\n",
    "\n",
    "foo('hello')\n",
    "foo('hello', 1, 2, 3)\n",
    "foo('hello', 1, 2, 3, key1='value', key2=999)"
   ]
  }
 ],
 "metadata": {
  "kernelspec": {
   "display_name": "Python 3",
   "language": "python",
   "name": "python3"
  },
  "language_info": {
   "codemirror_mode": {
    "name": "ipython",
    "version": 3
   },
   "file_extension": ".py",
   "mimetype": "text/x-python",
   "name": "python",
   "nbconvert_exporter": "python",
   "pygments_lexer": "ipython3",
   "version": "3.12.3"
  }
 },
 "nbformat": 4,
 "nbformat_minor": 2
}
