{
 "cells": [
  {
   "cell_type": "code",
   "execution_count": null,
   "metadata": {},
   "outputs": [],
   "source": [
    "# Python decorators example ###\n",
    "\n",
    "abc = 'var1'\n",
    "\n",
    "def identity(abc):\n",
    "    return abc\n",
    "\n",
    "print(identity(abc))\n",
    "\n",
    "@identity\n",
    "def foo():\n",
    "    return 'bar'\n",
    "\n",
    "print(foo())"
   ]
  },
  {
   "cell_type": "code",
   "execution_count": null,
   "metadata": {},
   "outputs": [],
   "source": [
    "##### Write a function that returns te larger of two numbers #####\n",
    "\n",
    "def get_larger_number(n1, n2):\n",
    "    if n1 > n2:\n",
    "        return f\"\\n{n1} is larger than {n2}\\n\"\n",
    "    elif n2 > n1:\n",
    "        return f\"\\n{n2} is larger than {n1}\\n\"\n",
    "    else:\n",
    "        return f\"\\n{n1} and {n2} are equal\\n\"\n",
    "    \n",
    "print(get_larger_number(1.1, 1.0))"
   ]
  },
  {
   "cell_type": "code",
   "execution_count": null,
   "metadata": {},
   "outputs": [],
   "source": [
    "##### Write a function that returns the result of a calculation involving two numbers #####\n",
    "\n",
    "n1 = input(\"\\nEnter first number: \")\n",
    "n2 = input(\"Enter second number: \")\n",
    "\n",
    "n1float = float(n1)\n",
    "n2float = float(n2)\n",
    "\n",
    "def get_product(n1float, n2float):\n",
    "    return n1float * n2float\n",
    "\n",
    "product = get_product(n1float, n2float)\n",
    "\n",
    "print(\"\\nRESULT = {:.2f}\".format(product), \"\\n\")"
   ]
  },
  {
   "cell_type": "code",
   "execution_count": null,
   "metadata": {},
   "outputs": [],
   "source": [
    "####\n",
    "x = 0\n",
    "\n",
    "while x <= 4000 and x >= 0:\n",
    "    x += 1000\n",
    "    print(x)"
   ]
  },
  {
   "cell_type": "code",
   "execution_count": null,
   "metadata": {},
   "outputs": [],
   "source": [
    "####\n",
    "count = 2\n",
    "fruit = \"Apple\"\n",
    "\n",
    "print(f\"{count = }\")\n",
    "print(f\"{fruit = }\")"
   ]
  },
  {
   "cell_type": "code",
   "execution_count": null,
   "metadata": {},
   "outputs": [],
   "source": [
    "#### Write a function that returns te larger of two numbers #####\n",
    "\n",
    "def get_larger_number(n1, n2):\n",
    "    if n1 > n2:\n",
    "        return f\"\\n{n1} is larger than {n2}\\n\"\n",
    "    elif n2 > n1:\n",
    "        return f\"\\n{n2} is larger than {n1}\\n\"\n",
    "    else:\n",
    "        return f\"\\n{n1} and {n2} are equal\\n\"\n",
    "    \n",
    "print(get_larger_number(1.1, 1.0))"
   ]
  },
  {
   "cell_type": "code",
   "execution_count": null,
   "metadata": {},
   "outputs": [],
   "source": [
    "##### Write a function that returns the result of a calculation involving two numbers #####\n",
    "\n",
    "n1 = input(\"\\nEnter first number: \")\n",
    "n2 = input(\"Enter second number: \")\n",
    "\n",
    "n1float = float(n1)\n",
    "n2float = float(n2)\n",
    "\n",
    "def get_product(n1float, n2float):\n",
    "    return n1float * n2float\n",
    "\n",
    "product = get_product(n1float, n2float)\n",
    "\n",
    "print(\"\\nRESULT = {:.2f}\".format(product), \"\\n\")"
   ]
  },
  {
   "cell_type": "code",
   "execution_count": null,
   "metadata": {},
   "outputs": [],
   "source": [
    "#### DECORATOR EXAMPLES, FROM P. 78 OF PYTHON TRICKS:  THE BOOK #####\n",
    "\n",
    "def uppercase(func):\n",
    "    def wrapper():\n",
    "        original_result = func()\n",
    "        modified_result = original_result.upper()\n",
    "        return modified_result\n",
    "    return wrapper\n",
    "\n",
    "def lowercase(func):\n",
    "    def wrapper():\n",
    "        original_result = func()\n",
    "        modified_result = original_result.lower()\n",
    "        return modified_result\n",
    "    return wrapper\n",
    "\n",
    "@uppercase\n",
    "def greet1():\n",
    "    return '\\nthis text was originally all lowercase, but look at it now!'\n",
    "\n",
    "@lowercase\n",
    "def greet2():\n",
    "    return 'THIS TEXT WAS ORIGINALLY ALL UPPERCASE, BUT LOOK AT IT NOW!\\n'\n",
    "\n",
    "print(greet1())\n",
    "print(greet2())"
   ]
  },
  {
   "cell_type": "code",
   "execution_count": null,
   "metadata": {},
   "outputs": [],
   "source": [
    "##### EXAMPLE OF *args AND **kwargs FROM P. 88 OF PYTHON TRICKS:  THE BOOK #####\n",
    "\n",
    "def foo(required, *args, **kwargs):\n",
    "    print(required)\n",
    "    if args:\n",
    "        print(args)\n",
    "    if kwargs:\n",
    "        print(kwargs)\n",
    "\n",
    "foo('hello')\n",
    "foo('hello', 1, 2, 3)\n",
    "foo('hello', 1, 2, 3, key1='value', key2=999)"
   ]
  }
 ],
 "metadata": {
  "kernelspec": {
   "display_name": "Python 3",
   "language": "python",
   "name": "python3"
  },
  "language_info": {
   "name": "python",
   "version": "3.12.3"
  }
 },
 "nbformat": 4,
 "nbformat_minor": 2
}
