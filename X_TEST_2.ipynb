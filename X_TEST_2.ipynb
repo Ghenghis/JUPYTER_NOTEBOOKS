{
 "cells": [
  {
   "cell_type": "code",
   "execution_count": 1,
   "metadata": {},
   "outputs": [
    {
     "name": "stdout",
     "output_type": "stream",
     "text": [
      "Nation(Name='Poland', Population=37846611, Pct_Change=-0.11, Net_Change=-41157, Density=124.0, Area=306230)\n"
     ]
    }
   ],
   "source": [
    "##### EXAMPLE OF BREAK STATEMENT IN A LOOP #####\n",
    "# for i in range(4):\n",
    "#     for j in range(4):\n",
    "#         if j > i:\n",
    "#             break\n",
    "#         print(i, j)\n",
    "\n",
    "##### EXAMPLE OF FLOOR DIVISION (//) OPERATOR WHERE RESULT IS ROUNDED DOWN TO NEAREST INTEGER #####\n",
    "# result = 30 // 3.9\n",
    "# print(result)\n",
    "\n",
    "##### FROM BOOK:  BETTER PYTHON CODE; pages 144-145 #####\n",
    "\n",
    "from typing import NamedTuple\n",
    "\n",
    "class Nation(NamedTuple):\n",
    "    Name: str\n",
    "    Population: int\n",
    "    Pct_Change: float\n",
    "    Net_Change: int\n",
    "    Density: float\n",
    "    Area: int\n",
    "\n",
    "poland = Nation('Poland', 37_846_611, -0.11, -41_157, Density=124.0, Area=306_230)\n",
    "\n",
    "print(poland)"
   ]
  },
  {
   "cell_type": "code",
   "execution_count": 3,
   "metadata": {},
   "outputs": [
    {
     "ename": "ValueError",
     "evalue": "could not convert string to float: 'a'",
     "output_type": "error",
     "traceback": [
      "\u001b[1;31m---------------------------------------------------------------------------\u001b[0m",
      "\u001b[1;31mValueError\u001b[0m                                Traceback (most recent call last)",
      "Cell \u001b[1;32mIn[3], line 7\u001b[0m\n\u001b[0;32m      4\u001b[0m         \u001b[38;5;28;01mraise\u001b[39;00m \u001b[38;5;167;01mZeroDivisionError\u001b[39;00m(\u001b[38;5;124m\"\u001b[39m\u001b[38;5;124mCannot divide by zero\u001b[39m\u001b[38;5;124m\"\u001b[39m)\n\u001b[0;32m      5\u001b[0m     \u001b[38;5;28;01mreturn\u001b[39;00m x \u001b[38;5;241m/\u001b[39m y\n\u001b[1;32m----> 7\u001b[0m x \u001b[38;5;241m=\u001b[39m \u001b[38;5;28;43mfloat\u001b[39;49m\u001b[43m(\u001b[49m\u001b[38;5;28;43minput\u001b[39;49m\u001b[43m(\u001b[49m\u001b[38;5;124;43m\"\u001b[39;49m\u001b[38;5;124;43mEnter first number: \u001b[39;49m\u001b[38;5;124;43m\"\u001b[39;49m\u001b[43m)\u001b[49m\u001b[43m)\u001b[49m\n\u001b[0;32m      8\u001b[0m y \u001b[38;5;241m=\u001b[39m \u001b[38;5;28mfloat\u001b[39m(\u001b[38;5;28minput\u001b[39m(\u001b[38;5;124m\"\u001b[39m\u001b[38;5;124mEnter second number: \u001b[39m\u001b[38;5;124m\"\u001b[39m))\n\u001b[0;32m     10\u001b[0m \u001b[38;5;28;01mtry\u001b[39;00m:\n",
      "\u001b[1;31mValueError\u001b[0m: could not convert string to float: 'a'"
     ]
    }
   ],
   "source": [
    "##### FROM CHATGPT & BOOK:  PYTHON TRICKS:  THE BOOK (p) #####\n",
    "def divide(x, y):\n",
    "    if y == 0:\n",
    "        raise ZeroDivisionError(\"Cannot divide by zero\")\n",
    "    return x / y\n",
    "\n",
    "x = float(input(\"Enter first number: \"))\n",
    "y = float(input(\"Enter second number: \"))\n",
    "\n",
    "try:\n",
    "    result = divide(x, y)\n",
    "except TypeError as e:\n",
    "    print(\"Error:\", e)\n",
    "except ZeroDivisionError as e:\n",
    "    print(\"Error:\", e)"
   ]
  }
 ],
 "metadata": {
  "kernelspec": {
   "display_name": "Python 3",
   "language": "python",
   "name": "python3"
  },
  "language_info": {
   "codemirror_mode": {
    "name": "ipython",
    "version": 3
   },
   "file_extension": ".py",
   "mimetype": "text/x-python",
   "name": "python",
   "nbconvert_exporter": "python",
   "pygments_lexer": "ipython3",
   "version": "3.12.3"
  }
 },
 "nbformat": 4,
 "nbformat_minor": 2
}
