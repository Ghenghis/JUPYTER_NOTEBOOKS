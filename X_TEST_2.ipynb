{
 "cells": [
  {
   "cell_type": "code",
   "execution_count": 1,
   "metadata": {},
   "outputs": [
    {
     "name": "stdout",
     "output_type": "stream",
     "text": [
      "Nation(Name='Poland', Population=37846611, Pct_Change=-0.11, Net_Change=-41157, Density=124.0, Area=306230)\n"
     ]
    }
   ],
   "source": [
    "from typing import NamedTuple\n",
    "\n",
    "class Nation(NamedTuple):\n",
    "    Name: str\n",
    "    Population: int\n",
    "    Pct_Change: float\n",
    "    Net_Change: int\n",
    "    Density: float\n",
    "    Area: int\n",
    "\n",
    "poland = Nation('Poland', 37_846_611, -0.11, -41_157, Density=124.0, Area=306_230)\n",
    "\n",
    "print(poland)"
   ]
  },
  {
   "cell_type": "code",
   "execution_count": null,
   "metadata": {},
   "outputs": [],
   "source": [
    "##### EXAMPLE OF FLOOR DIVISION (//) OPERATOR WHERE RESULT IS ROUNDED DOWN TO NEAREST INTEGER #####\n",
    "\n",
    "result = 30 // 3.9\n",
    "print(result)"
   ]
  },
  {
   "cell_type": "code",
   "execution_count": null,
   "metadata": {},
   "outputs": [],
   "source": [
    "##### EXAMPLE OF BREAK STATEMENT IN A LOOP #####\n",
    "\n",
    "for i in range(4):\n",
    "    for j in range(4):\n",
    "        if j > i:\n",
    "            break\n",
    "        print(i, j)"
   ]
  },
  {
   "cell_type": "code",
   "execution_count": 35,
   "metadata": {},
   "outputs": [
    {
     "name": "stdout",
     "output_type": "stream",
     "text": [
      "x = 5.0\n",
      "y = 9.0\n",
      "x / y = 0.55556\n"
     ]
    }
   ],
   "source": [
    "##### FROM CHATGPT & BOOK:  PYTHON TRICKS:  THE BOOK (p. 113) #####\n",
    "\n",
    "def divide(x, y):\n",
    "    # if y == 0:\n",
    "    #     raise ZeroDivisionError(\"Cannot divide by zero\")\n",
    "    return x / y\n",
    "\n",
    "try:\n",
    "    x = float(input(\"Enter first number: \"))\n",
    "    y = float(input(\"Enter second number: \"))\n",
    "    print(f\"x =\", x)\n",
    "    print(f\"y =\", y)\n",
    "    result = divide(x, y)\n",
    "    result2 = \"{:,.5f}\".format(result)\n",
    "    print(f\"x / y =\", result2)\n",
    "except ValueError as e:\n",
    "    print(\"INPUT ERROR:\", e)\n",
    "except ZeroDivisionError as e:\n",
    "    print(\"INPUT ERROR:\", e)"
   ]
  }
 ],
 "metadata": {
  "kernelspec": {
   "display_name": "Python 3",
   "language": "python",
   "name": "python3"
  },
  "language_info": {
   "codemirror_mode": {
    "name": "ipython",
    "version": 3
   },
   "file_extension": ".py",
   "mimetype": "text/x-python",
   "name": "python",
   "nbconvert_exporter": "python",
   "pygments_lexer": "ipython3",
   "version": "3.12.3"
  }
 },
 "nbformat": 4,
 "nbformat_minor": 2
}
