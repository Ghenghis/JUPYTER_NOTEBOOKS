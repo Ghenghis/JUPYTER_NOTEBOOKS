{
 "cells": [
  {
   "cell_type": "code",
   "execution_count": 18,
   "metadata": {},
   "outputs": [
    {
     "ename": "SyntaxError",
     "evalue": "invalid syntax. Maybe you meant '==' or ':=' instead of '='? (91082525.py, line 23)",
     "output_type": "error",
     "traceback": [
      "\u001b[1;36m  Cell \u001b[1;32mIn[18], line 23\u001b[1;36m\u001b[0m\n\u001b[1;33m    sorted_df_students = df_students.sort_values(by=[df_students['LAST_NAME','FIRST_NAME']], ascending=[True, False]), inplace=True\u001b[0m\n\u001b[1;37m    ^\u001b[0m\n\u001b[1;31mSyntaxError\u001b[0m\u001b[1;31m:\u001b[0m invalid syntax. Maybe you meant '==' or ':=' instead of '='?\n"
     ]
    }
   ],
   "source": [
    "import pandas as pd\n",
    "import xlwings as xw\n",
    "\n",
    "students = (\n",
    "  {'TITLE': ['MR.', 'Mr.', 'Mr.', 'Miss', 'Miss', 'Mr.', 'Miss', 'Miss', 'Miss', 'Mr.'],\n",
    "   'LAST_NAME': ['NISHIHARA', 'NISHIHARA', 'Smith', 'Leibstrom', 'Kanabar', 'Thiel', 'Reichel',\n",
    "                 'OConner', 'Rao', 'Crock', 'McDonald'],\n",
    "   'FIRST_NAME': ['ALAN', 'BRADLEY', 'Daniel', 'Ben', 'Kavita', 'Linda', 'Omar', 'Jane', 'Felicia', 'Rachel',\n",
    "                  'Bob'],\n",
    "   'STATE': ['OR', 'NY', 'NY', 'PA', 'CA', 'OK', 'HI',\n",
    "                  'NY','FL', 'FL'],\n",
    "   'YR': [4, 1, 1, 1, 4, 2, 2, 3, 1, 1],\n",
    "   'AGE': [22, 21, 20, 19, 18, 17, 16, 15, 14, 13],\n",
    "   'CALC_101_FINAL': [100, 90, 80, None, 60, 70, None, None, None, 98],\n",
    "   'ENG_101_FINAL': [100, 80, None, None, 40, 50, None, None, 60, 65],\n",
    "   'ECON_101_FINAL': [100, 90, 80, None, None, None, None, None, None, None],\n",
    "   'STAT_201_FINAL': [100, 200, 300, None, None, None, None, None, None, None]})\n",
    "\n",
    "df_students = pd.DataFrame(students)\n",
    "df_students.index = [1,2,3,4,5,6,7,8,9,10]\n",
    "\n",
    "# SORT data\n",
    "sorted_df_students = df_students.sort_values(by=[df_students['LAST_NAME','AGE']], ascending=[True, False]), inplace=True\n",
    "# sorted_df_students = df_students.sort_values(by=['LAST_NAME'], inplace=True)\n",
    "\n",
    "print(sorted_df_students)\n",
    "\n",
    "# FILTER data\n",
    "# filtered_df = df_students.loc[df_students['AGE'] > 20]\n",
    "filtered_df_students = df_students.loc(by=[df_students['AGE'] > 20], [df_students['LAST_NAME'] == 'NISHIHARA'])\n",
    "\n",
    "# PRINT the filtered DataFrame\n",
    "print(filtered_df_students)\n",
    "\n",
    "# xw.view(df_students.head(2))\n",
    "# df_students.head(3)\n",
    "\n",
    "# df_students"
   ]
  }
 ],
 "metadata": {
  "kernelspec": {
   "display_name": ".venv",
   "language": "python",
   "name": "python3"
  },
  "language_info": {
   "codemirror_mode": {
    "name": "ipython",
    "version": 3
   },
   "file_extension": ".py",
   "mimetype": "text/x-python",
   "name": "python",
   "nbconvert_exporter": "python",
   "pygments_lexer": "ipython3",
   "version": "3.12.2"
  }
 },
 "nbformat": 4,
 "nbformat_minor": 2
}
