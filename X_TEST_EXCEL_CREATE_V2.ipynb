{
 "cells": [
  {
   "cell_type": "code",
   "execution_count": 7,
   "metadata": {},
   "outputs": [
    {
     "name": "stdout",
     "output_type": "stream",
     "text": [
      "None\n",
      "   TITLE  LAST_NAME FIRST_NAME STATE  YR  AGE  CALC_101_FINAL  ENG_101_FINAL  \\\n",
      "2    Mr.      Smith     Daniel    NY   1   18            90.0           80.0   \n",
      "8   Miss        Rao    Felicia    NY   3   20             NaN            NaN   \n",
      "7   Miss    OConner       Jane    HI   2   19             NaN            NaN   \n",
      "10   Mr.   McDonald        Bob    FL   1   18            98.0           65.0   \n",
      "3    Mr.  Leibstrom        Ben    NY   1   19            80.0            NaN   \n",
      "4   Miss    Kanabar     Kavita    PA   1   19             NaN            NaN   \n",
      "9   Miss      Crock     Rachel    FL   1   17             NaN           60.0   \n",
      "\n",
      "    ECON_101_FINAL  STAT_201_FINAL  \n",
      "2             90.0           200.0  \n",
      "8              NaN             NaN  \n",
      "7              NaN             NaN  \n",
      "10             NaN             NaN  \n",
      "3             80.0           300.0  \n",
      "4              NaN             NaN  \n",
      "9              NaN             NaN  \n"
     ]
    }
   ],
   "source": [
    "import pandas as pd\n",
    "import xlwings as xw\n",
    "\n",
    "students = (\n",
    "  {'TITLE': ['MR.', 'Mr.', 'Mr.', 'Miss', 'Miss', 'Mr.', 'Miss', 'Miss', 'Miss', 'Mr.'],\n",
    "   'LAST_NAME': ['NISHIHARA', 'Smith', 'Leibstrom', 'Kanabar', 'Thiel', 'Reichel',\n",
    "                 'OConner', 'Rao', 'Crock', 'McDonald'],\n",
    "   'FIRST_NAME': ['ALAN', 'Daniel', 'Ben', 'Kavita', 'Linda', 'Omar', 'Jane', 'Felicia', 'Rachel',\n",
    "                  'Bob'],\n",
    "   'STATE': ['OR', 'NY', 'NY', 'PA', 'CA', 'OK', 'HI',\n",
    "                  'NY','FL', 'FL'],\n",
    "   'YR': [4, 1, 1, 1, 4, 2, 2, 3, 1, 1],\n",
    "   'AGE': [22, 18, 19, 19, 22, 21, 19, 20, 17, 18],\n",
    "   'CALC_101_FINAL': [100, 90, 80, None, 60, 70, None, None, None, 98],\n",
    "   'ENG_101_FINAL': [100, 80, None, None, 40, 50, None, None, 60, 65],\n",
    "   'ECON_101_FINAL': [100, 90, 80, None, None, None, None, None, None, None],\n",
    "   'STAT_201_FINAL': [100, 200, 300, None, None, None, None, None, None, None]})\n",
    "\n",
    "df_students = pd.DataFrame(students)\n",
    "df_students.index = [1,2,3,4,5,6,7,8,9,10]\n",
    "\n",
    "# sorted_df_students = df_students.sort_values(by=['AGE'], ascending=False, inplace=True)\n",
    "sorted_df_students = df_students.sort_values(by=['LAST_NAME'], ascending=False, inplace=True)\n",
    "print(sorted_df_students)\n",
    "\n",
    "# Filter data based on a condition\n",
    "filtered_df = df_students.loc[df_students['AGE'] <= 20]\n",
    "\n",
    "# Print the filtered DataFrame\n",
    "print(filtered_df)\n",
    "\n",
    "# xw.view(df_students.head(2))\n",
    "# df_students.head(3)\n",
    "\n",
    "# df_students"
   ]
  }
 ],
 "metadata": {
  "kernelspec": {
   "display_name": ".venv",
   "language": "python",
   "name": "python3"
  },
  "language_info": {
   "codemirror_mode": {
    "name": "ipython",
    "version": 3
   },
   "file_extension": ".py",
   "mimetype": "text/x-python",
   "name": "python",
   "nbconvert_exporter": "python",
   "pygments_lexer": "ipython3",
   "version": "3.11.8"
  }
 },
 "nbformat": 4,
 "nbformat_minor": 2
}
