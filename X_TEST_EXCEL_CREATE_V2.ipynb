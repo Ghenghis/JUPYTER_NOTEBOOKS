{
 "cells": [
  {
   "cell_type": "code",
   "execution_count": 16,
   "metadata": {},
   "outputs": [
    {
     "name": "stdout",
     "output_type": "stream",
     "text": [
      "None\n",
      "  TITLE  LAST_NAME FIRST_NAME STATE  YR  AGE  CALC_101_FINAL  ENG_101_FINAL  \\\n",
      "1   MR.  NISHIHARA       ALAN    OR   5   22           100.0          100.0   \n",
      "2   MR.  NISHIHARA    BRADLEY    TX   4   21            99.0           99.0   \n",
      "3   Mr.      Smith     Daniel    NY   1   30            90.0           80.0   \n",
      "\n",
      "   ECON_101_FINAL  STAT_201_FINAL  \n",
      "1           100.0           100.0  \n",
      "2            99.0           101.0  \n",
      "3            90.0           200.0  \n"
     ]
    }
   ],
   "source": [
    "import pandas as pd\n",
    "import xlwings as xw\n",
    "\n",
    "students = (\n",
    "  {'TITLE': ['MR.', 'MR.', 'Mr.', 'Mr.', 'Miss', 'Miss', 'Mr.', 'Miss', 'Miss', 'Miss', 'Mr.'],\n",
    "   'LAST_NAME': ['NISHIHARA', 'NISHIHARA', 'Smith', 'Leibstrom', 'Kanabar', 'Thiel', 'Reichel',\n",
    "                 'OConner', 'Rao', 'Crock', 'McDonald'],\n",
    "   'FIRST_NAME': ['ALAN', 'BRADLEY', 'Daniel', 'Ben', 'Kavita', 'Linda', 'Omar', 'Jane', 'Felicia', 'Rachel', 'Bob'],\n",
    "   'STATE': ['OR', 'TX', 'NY', 'NY', 'PA', 'CA', 'OK', 'HI',\n",
    "                  'NY','FL', 'FL'],\n",
    "   'YR': [5, 4, 1, 1, 1, 4, 2, 2, 3, 1, 1],\n",
    "   'AGE': [22, 21, 30, 20, 19, 18, 17, 16, 15, 14, 13],\n",
    "   'CALC_101_FINAL': [100, 99, 90, 80, None, 60, 70, None, None, None, 98],\n",
    "   'ENG_101_FINAL': [100, 99, 80, None, None, 40, 50, None, None, 60, 65],\n",
    "   'ECON_101_FINAL': [100, 99, 90, 80, None, None, None, None, None, None, None],\n",
    "   'STAT_201_FINAL': [100, 101, 200, 300, None, None, None, None, None, None, None]})\n",
    "\n",
    "df_students = pd.DataFrame(students)\n",
    "df_students.index = [1,2,3,4,5,6,7,8,9,10,11]\n",
    "\n",
    "# SORT data\n",
    "# sorted_df_students.sort_values(by=[df_students['LAST_NAME', 'AGE']], ascending=[True, True]), inplace=True\n",
    "sorted_df = df_students.sort_values(by=['LAST_NAME'], inplace=True)\n",
    "\n",
    "print(sorted_df_students)\n",
    "\n",
    "# FILTER data\n",
    "filtered_df = df_students.loc[df_students['AGE'] > 20]\n",
    "# filtered_df = df_students.loc(by=[df_students['AGE'] < 20 & df_students['CALC_101_FINAL'] == 70])\n",
    "\n",
    "# PRINT the filtered DataFrame\n",
    "print(filtered_df)\n",
    "\n",
    "# xw.view(df_students.head(2))\n",
    "# df_students.head(3)\n",
    "\n",
    "# df_students"
   ]
  }
 ],
 "metadata": {
  "kernelspec": {
   "display_name": ".venv",
   "language": "python",
   "name": "python3"
  },
  "language_info": {
   "codemirror_mode": {
    "name": "ipython",
    "version": 3
   },
   "file_extension": ".py",
   "mimetype": "text/x-python",
   "name": "python",
   "nbconvert_exporter": "python",
   "pygments_lexer": "ipython3",
   "version": "3.12.2"
  }
 },
 "nbformat": 4,
 "nbformat_minor": 2
}
