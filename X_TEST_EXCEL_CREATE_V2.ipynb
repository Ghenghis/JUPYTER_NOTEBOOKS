{
 "cells": [
  {
   "cell_type": "code",
   "execution_count": null,
   "metadata": {},
   "outputs": [],
   "source": [
    "import pandas as pd\n",
    "import xlwings as xw\n",
    "\n",
    "students = (\n",
    "  {'TITLE': ['MR.', 'Mr.', 'Mr.', 'Miss', 'Miss', 'Mr.', 'Miss', 'Miss', 'Miss', 'Mr.'],\n",
    "   'FIRST_NAME': ['ALAN', 'Daniel', 'Ben', 'Kavita', 'Linda', 'Omar', 'Jane', 'Felicia', 'Rachel',\n",
    "                  'Bob'],\n",
    "   'LAST_NAME': ['NISHIHARA', 'Smith', 'Leibstrom', 'Kanabar', 'Thiel', 'Reichel',\n",
    "                 'OConner', 'Rao', 'Crock', 'McDonald'],\n",
    "   'STATE': ['OR', 'NY', 'NY', 'PA', 'CA', 'OK', 'HI',\n",
    "                  'NY','FL', 'FL'],\n",
    "   'YR': [4, 1, 1, 1, 4, 2, 2, 3, 1, 1],\n",
    "   'AGE': [22, 18, 19, 19, 22, 21, 19, 20, 17, 18],\n",
    "   'CALC_101_FINAL': [100, 90, 80, None, 60, 70, None, None, None, 98],\n",
    "   'ENG_101_FINAL': [100, 80, None, None, 40, 50, None, None, 60, 65],\n",
    "   'ECON_101_FINAL': [100, 90, 80, None, None, None, None, None, None, None],\n",
    "   'STAT_201_FINAL': [100, 200, 300, None, None, None, None, None, None, None]})\n",
    "\n",
    "df_students = pd.DataFrame(students)\n",
    "df_students.index = [1,2,3,4,5,6,7,8,9,10]\n",
    "\n",
    "xw.view(df_students.head(2))\n",
    "\n",
    "df_students.head(3)"
   ]
  }
 ],
 "metadata": {
  "kernelspec": {
   "display_name": ".venv",
   "language": "python",
   "name": "python3"
  },
  "language_info": {
   "codemirror_mode": {
    "name": "ipython",
    "version": 3
   },
   "file_extension": ".py",
   "mimetype": "text/x-python",
   "name": "python",
   "nbconvert_exporter": "python",
   "pygments_lexer": "ipython3",
   "version": "3.11.8"
  }
 },
 "nbformat": 4,
 "nbformat_minor": 2
}
