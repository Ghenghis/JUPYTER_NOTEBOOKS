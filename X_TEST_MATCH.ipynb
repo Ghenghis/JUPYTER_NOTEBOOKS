{
 "cells": [
  {
   "cell_type": "code",
   "execution_count": 1,
   "metadata": {},
   "outputs": [
    {
     "name": "stdout",
     "output_type": "stream",
     "text": [
      "THE % DISCOUNT YOU ENTERED IS VALID:  2% is an integer\n",
      "REJECTED: Only 0, 1, 5, or 10% discounts are allowed\n"
     ]
    }
   ],
   "source": [
    "# FROM PRAGMATIC PYTHON PROGRAMMING BOOK (LISTING 3-22):\n",
    "\n",
    "class Product:\n",
    "    counter = 1\n",
    "    \n",
    "    def __init__(self, code, name, price):\n",
    "        self.code = code\n",
    "        self.__class__.counter += 1\n",
    "        self.name = name\n",
    "        self.price = price\n",
    "        self.old_price = price\n",
    "        \n",
    "    def reduce_price(self, percentage):\n",
    "        self.old_price = self.price\n",
    "        new_price = self.price * (1 - percentage/100)\n",
    "        # self.price = round(new_price)\n",
    "        self.price = float(new_price)\n",
    "        \n",
    "    @classmethod\n",
    "    def product_count(cls):\n",
    "        return cls.counter\n",
    "\n",
    "    @staticmethod\n",
    "    def generate_str(code, name, price, old_price):\n",
    "        return f'{name} ({code}): {old_price}=>{price}'\n",
    "\n",
    "    def __str__(self):\n",
    "        product_str = self.generate_str(self.code, self.name, \n",
    "            self.price, self.old_price)\n",
    "        return f'{product_str}'\n",
    "\n",
    "    def __repr__(self):\n",
    "        product_str = self.generate_str(self.code, self.name, \n",
    "            self.price, self.old_price)\n",
    "        return f'<Product {product_str}>'\n",
    "    \n",
    "    def __eq__(self, other):\n",
    "        if isinstance(other, self.__class__):\n",
    "            return (self.price == other.price \n",
    "                    and self.code == other.code)\n",
    "        return False"
   ]
  },
  {
   "cell_type": "code",
   "execution_count": 3,
   "metadata": {},
   "outputs": [
    {
     "name": "stdout",
     "output_type": "stream",
     "text": [
      "Student name: Mark. Gender: male\n"
     ]
    }
   ],
   "source": [
    "class Student:\n",
    "    def __init__(self, name, gender):\n",
    "        self.name = name\n",
    "        self.gender = gender\n",
    "\n",
    "    # instance method\n",
    "    def __str__(self):\n",
    "        return f'Student name: {self.name}. Gender: {self.gender}'\n",
    "    \n",
    "# Creating an object\n",
    "student1 = Student(\"Mark\", \"male\")\n",
    "\n",
    "print(student1) # no need to explicitly call the string method"
   ]
  },
  {
   "cell_type": "code",
   "execution_count": 2,
   "metadata": {},
   "outputs": [
    {
     "name": "stdout",
     "output_type": "stream",
     "text": [
      "Example showning where print(str(obj)) returns the SAME result as print(obj).  MEMO:  (obj = (MyClass(1, 2))\n",
      "Example showing where print(repr(obj)) returns a DIFFERENT result than print(obj).  MEMO:  obj = (MyClass(1, 2)\n",
      "Example showning where print(str(obj)) returns the SAME result as print(obj).  MEMO:  (obj = (MyClass(1, 2))\n",
      "x / y = \t 0.50\n",
      "x // y = \t 0.00\n",
      "x % y = \t 1.00\n",
      "x ** y = \t 1.00\n",
      "x * y = \t 2.00\n"
     ]
    }
   ],
   "source": [
    "# FROM CHATGPT:  EXAMPLE OF __repr__ METHOD:\n",
    "\n",
    "import sys\n",
    "\n",
    "x = input(\"Enter first number less than 101: \")\n",
    "y = input(\"Enter second number less than 101: \")\n",
    "\n",
    "x1 = float(x)\n",
    "y1 = float(y)\n",
    "\n",
    "class MyClass:\n",
    "    def __init__(self, x, y):\n",
    "        self.x = x\n",
    "        self.y = y\n",
    "    \n",
    "    def __repr__(self):\n",
    "        return f\"Example showing where print(repr(obj)) returns a DIFFERENT result than print(obj).  MEMO:  obj = (MyClass({self.x}, {self.y})\"\n",
    "    \n",
    "    def __str__(self):\n",
    "        return f\"Example showning where print(str(obj)) returns the SAME result as print(obj).  MEMO:  (obj = (MyClass({self.x}, {self.y}))\"\n",
    "    \n",
    "obj = MyClass(x, y)\n",
    "\n",
    "result1 = float(x1) / float(y1)\n",
    "result2 = float(x1) // float(y1)\n",
    "result3 = float(x1) % float(y1)\n",
    "result4 = float(x1) ** float(y1)\n",
    "result5 = float(x1) * float(y1)\n",
    "\n",
    "result1a = \"{:,.2f}\".format(result1)\n",
    "result2a = \"{:,.2f}\".format(result2)\n",
    "result3a = \"{:,.2f}\".format(result3)\n",
    "result4a = \"{:,.2f}\".format(result4)\n",
    "result5a = \"{:,.2f}\".format(result5)\n",
    "\n",
    "print(obj)  # Output: MyClass(x, y)\n",
    "print(repr(obj))  # Output: MyClass(x, y)\n",
    "print(str(obj))  # Output: MyClass(x, y)\n",
    "print(f\"x / y = \\t\", result1a)\n",
    "print(f\"x // y = \\t\", result2a)\n",
    "print(f\"x % y = \\t\", result3a)\n",
    "print(f\"x ** y = \\t\", result4a)\n",
    "print(f\"x * y = \\t\", result5a)"
   ]
  },
  {
   "cell_type": "code",
   "execution_count": null,
   "metadata": {},
   "outputs": [],
   "source": []
  },
  {
   "cell_type": "code",
   "execution_count": null,
   "metadata": {},
   "outputs": [],
   "source": [
    "# FROM PRAGMATIC PYTHON PROGRAMMING BOOK (LISTING 4-4):\n",
    "\n",
    "input_price = float(input('Enter the price of the product: '))\n",
    "input_price2 = '{:.2f}'.format(input_price)\n",
    "\n",
    "product = Product('K01', 'cube', float(input_price))\n",
    "\n",
    "try:\n",
    "    discount_value = int(input('Enter percent (%) discount amount as an integer'))\n",
    "    print(f'THE % DISCOUNT YOU ENTERED IS VALID:  {discount_value}% is an integer')\n",
    "    match discount_value:\n",
    "        case 0:\n",
    "            print('No discount')\n",
    "        case 1|5|10|100:\n",
    "            # print(f'ORIGINAL PRODUCT PRICE: {product.price}')\n",
    "            product.reduce_price(discount_value)\n",
    "            product.price = '{:.2f}'.format(product.price)\n",
    "            mult_product = '{:.2f}'.format((discount_value / 100) * (input_price))\n",
    "            dollar_disc = '{:.2f}'.format(input_price - float(product.price))\n",
    "            print(f'ORIGINAL PRODUCT PRICE OF ${input_price2} MINUS ${mult_product} = NEW PRODUCT PRICE OF ${product.price}')\n",
    "            print(f'DISCOUNT = {discount_value}% of ${input_price2} = ${dollar_disc}')\n",
    "            print(f'REDUCED PRICE = ${input_price2} MINUS ${dollar_disc} = ${product.price}')\n",
    "        case _:\n",
    "            print('REJECTED: Only 0, 1, 5, or 10% discounts are allowed')\n",
    "except ValueError:\n",
    "    print(\"INVALID DISCOUNT ENTRY:  The variable you entered is not an integer.\")"
   ]
  }
 ],
 "metadata": {
  "kernelspec": {
   "display_name": "Python 3",
   "language": "python",
   "name": "python3"
  },
  "language_info": {
   "codemirror_mode": {
    "name": "ipython",
    "version": 3
   },
   "file_extension": ".py",
   "mimetype": "text/x-python",
   "name": "python",
   "nbconvert_exporter": "python",
   "pygments_lexer": "ipython3",
   "version": "3.12.3"
  }
 },
 "nbformat": 4,
 "nbformat_minor": 2
}
