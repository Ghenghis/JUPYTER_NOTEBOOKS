{
 "cells": [
  {
   "cell_type": "code",
   "execution_count": 7,
   "metadata": {},
   "outputs": [
    {
     "name": "stdout",
     "output_type": "stream",
     "text": [
      "CONFIRMED:  The value you entered is an integer\n",
      "ORIGINAL PRODUCT PRICE: 22.30\n",
      "10% DISCOUNT ACCEPTED\n",
      "NEW PRODUCT PRICE: 20.07\n"
     ]
    }
   ],
   "source": [
    "# FROM PRAGMATIC PYTHON PROGRAMMING BOOK (LISTING 3-22):\n",
    "\n",
    "class Product:\n",
    "    counter = 1\n",
    "    \n",
    "    def __init__(self, code, name, price):\n",
    "        self.code = code\n",
    "        self.__class__.counter += 1\n",
    "        self.name = name\n",
    "        self.price = price\n",
    "        self.old_price = price\n",
    "        \n",
    "    def reduce_price(self, percentage):\n",
    "        self.old_price = self.price\n",
    "        new_price = self.price * (1 - percentage/100)\n",
    "        # self.price = round(new_price)\n",
    "        self.price = float(new_price)\n",
    "        \n",
    "    @classmethod\n",
    "    def product_count(cls):\n",
    "        return cls.counter\n",
    "\n",
    "    @staticmethod\n",
    "    def generate_str(code, name, price, old_price):\n",
    "        return f'{name} ({code}): {old_price}=>{price}'\n",
    "\n",
    "    def __str__(self):\n",
    "        product_str = self.generate_str(self.code, self.name, \n",
    "            self.price, self.old_price)\n",
    "        return f'{product_str}'\n",
    "\n",
    "    def __repr__(self):\n",
    "        product_str = self.generate_str(self.code, self.name, \n",
    "            self.price, self.old_price)\n",
    "        return f'<Product {product_str}>'\n",
    "    \n",
    "    def __eq__(self, other):\n",
    "        if isinstance(other, self.__class__):\n",
    "            return (self.price == other.price \n",
    "                    and self.code == other.code)\n",
    "        return False\n",
    "\n",
    "# FROM PRAGMATIC PYTHON PROGRAMMING BOOK (LISTING 4-4):\n",
    "\n",
    "input_price = float(input('Enter the price of the product: '))\n",
    "input_price2 = '{:.2f}'.format(input_price)\n",
    "\n",
    "product = Product('K01', 'cube', float(input_price))\n",
    "\n",
    "try:\n",
    "    discount_value = int(input(\"Enter percent (%) discount amount as an integer\"))\n",
    "    print('CONFIRMED:  The value you entered is an integer')\n",
    "    match discount_value:\n",
    "        case 0:\n",
    "            print('No discount')\n",
    "        case 1|5|10|100:\n",
    "            # print(f'ORIGINAL PRODUCT PRICE: {product.price}')\n",
    "            print(f'ORIGINAL PRODUCT PRICE: {input_price2}')\n",
    "            print(f'{discount_value}% DISCOUNT ACCEPTED')\n",
    "            product.reduce_price(discount_value)\n",
    "            product.price = '{:.2f}'.format(product.price)\n",
    "            print(f'NEW PRODUCT PRICE: {product.price}')\n",
    "        case _:\n",
    "            print('REJECTED:  We allow only 0, 1, 5, or 10% discounts')\n",
    "except ValueError:\n",
    "    print(\"INVALID ENTRY:  The variable you entered is not an integer.\")"
   ]
  }
 ],
 "metadata": {
  "kernelspec": {
   "display_name": "Python 3",
   "language": "python",
   "name": "python3"
  },
  "language_info": {
   "codemirror_mode": {
    "name": "ipython",
    "version": 3
   },
   "file_extension": ".py",
   "mimetype": "text/x-python",
   "name": "python",
   "nbconvert_exporter": "python",
   "pygments_lexer": "ipython3",
   "version": "3.12.3"
  }
 },
 "nbformat": 4,
 "nbformat_minor": 2
}
