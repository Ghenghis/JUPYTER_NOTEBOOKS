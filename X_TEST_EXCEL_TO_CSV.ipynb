{
 "cells": [
  {
   "cell_type": "code",
   "execution_count": 2,
   "metadata": {},
   "outputs": [],
   "source": [
    "import csv\n",
    "import openpyxl\n",
    "\n",
    "from openpyxl import load_workbook\n",
    "\n",
    "def excel_to_csv(excel_file, csv_file):\n",
    "    workbook = load_workbook(filename=excel_file)\n",
    "    sheet = workbook.active\n",
    "    csv_data = []\n",
    "\n",
    "    # Read data from Excel\n",
    "    for value in sheet.iter_rows(values_only=True):\n",
    "        csv_data.append(list(value))\n",
    "\n",
    "    # Write to CSV\n",
    "    with open(csv_file, 'w') as csv_file_obj:\n",
    "        writer = csv.writer(csv_file_obj, delimiter=',')\n",
    "        for line in csv_data:\n",
    "            writer.writerow(line)\n",
    "\n",
    "if __name__ == \"__main__\":\n",
    "    excel_to_csv(\"DATA_FILES\\\\X_TEST_EXCEL_TO_CSV.xlsx\", \"DATA_FILES\\\\X_TEST_EXCEL_TO_CSV.csv\")"
   ]
  }
 ],
 "metadata": {
  "kernelspec": {
   "display_name": "Python 3",
   "language": "python",
   "name": "python3"
  },
  "language_info": {
   "codemirror_mode": {
    "name": "ipython",
    "version": 3
   },
   "file_extension": ".py",
   "mimetype": "text/x-python",
   "name": "python",
   "nbconvert_exporter": "python",
   "pygments_lexer": "ipython3",
   "version": "3.12.3"
  }
 },
 "nbformat": 4,
 "nbformat_minor": 2
}
